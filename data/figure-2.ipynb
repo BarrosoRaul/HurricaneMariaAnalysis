{
 "cells": [
  {
   "cell_type": "markdown",
   "metadata": {},
   "source": [
    "### This notebook convertes  \"Who left?\" Figure (figure-2) R script code to python. "
   ]
  },
  {
   "cell_type": "markdown",
   "metadata": {},
   "source": [
    "Author: Mariela Rosa Casillas & Camila Vazquez Rodriguez "
   ]
  },
  {
   "cell_type": "markdown",
   "metadata": {},
   "source": [
    "## We Installed "
   ]
  },
  {
   "cell_type": "code",
   "execution_count": null,
   "metadata": {},
   "outputs": [
    {
     "name": "stdout",
     "output_type": "stream",
     "text": [
      "Requirement already satisfied: pandas in /usr/local/lib/python3.7/site-packages (0.25.1)\n",
      "Requirement already satisfied: pytz>=2017.2 in /usr/local/lib/python3.7/site-packages (from pandas) (2019.3)\n",
      "Requirement already satisfied: python-dateutil>=2.6.1 in /usr/local/lib/python3.7/site-packages (from pandas) (2.8.1)\n",
      "Requirement already satisfied: numpy>=1.13.3 in /usr/local/lib/python3.7/site-packages (from pandas) (1.17.4)\n",
      "Requirement already satisfied: six>=1.5 in /usr/local/lib/python3.7/site-packages (from python-dateutil>=2.6.1->pandas) (1.13.0)\n",
      "Requirement already satisfied: pyreadr in /usr/local/lib/python3.7/site-packages (0.2.2)\n"
     ]
    }
   ],
   "source": [
    "! pip3 install pandas \n",
    "! pip3 install pyreadr \n",
    "! pip3 install numpy \n",
    "! pip3 install matplotlib\n",
    "! pip3 install plotnine \n"
   ]
  },
  {
   "cell_type": "markdown",
   "metadata": {},
   "source": [
    "### Pyreadr to load R data files with dataframes \n",
    "### Pandas to handle dataframes \n",
    "### Numpy for math operations\n",
    "### Matplotlib to plot \n",
    "### And plotnine, because it hass ggplot, to plot "
   ]
  },
  {
   "cell_type": "markdown",
   "metadata": {},
   "source": [
    "# Imports "
   ]
  },
  {
   "cell_type": "markdown",
   "metadata": {},
   "source": [
    "### R"
   ]
  },
  {
   "cell_type": "raw",
   "metadata": {},
   "source": [
    "## Imports ----\n",
    "source(\"../ref/base.R\")\n",
    "lib_eval(\"tidyverse\")\n",
    "lib_eval(\"ggsci\")\n",
    "lib_eval(\"patchwork\")\n"
   ]
  },
  {
   "cell_type": "markdown",
   "metadata": {},
   "source": [
    "### Python"
   ]
  },
  {
   "cell_type": "code",
   "execution_count": null,
   "metadata": {},
   "outputs": [],
   "source": [
    "import pandas as pd\n",
    "import pyreadr\n",
    "import numpy as np\n",
    "import plotnine as p9\n",
    "from plotnine import ggplot, geom_point, aes, stat_smooth, facet_wrap, geom_bar"
   ]
  },
  {
   "cell_type": "markdown",
   "metadata": {},
   "source": [
    "# Load Data "
   ]
  },
  {
   "cell_type": "markdown",
   "metadata": {},
   "source": [
    "### R"
   ]
  },
  {
   "cell_type": "raw",
   "metadata": {},
   "source": [
    "## Data ----\n",
    "load('../data/rdata/ACS2016.Rdata')\n",
    "individuals <- readRDS(\"../data/rdata/ind_hh.RDS\")\n",
    "where_df <- readRDS(\"../data/rdata/where_df.RDS\")\n",
    "hh_main <- readRDS(\"../data/rdata/hh_main.RDS\")\n"
   ]
  },
  {
   "cell_type": "markdown",
   "metadata": {},
   "source": [
    "### Python "
   ]
  },
  {
   "cell_type": "code",
   "execution_count": null,
   "metadata": {},
   "outputs": [],
   "source": [
    "# Load R files \n",
    "load_data = pyreadr.read_r('../data/rdata/ACS2016.Rdata')\n",
    "individuals = pyreadr.read_r(\"../data/rdata/ind_hh.RDS\")\n",
    "where_df = pyreadr.read_r(\"../data/rdata/where_df.RDS\")\n",
    "hh_main = pyreadr.read_r(\"../data/rdata/hh_main.RDS\")\n",
    "\n",
    "# Convert to Pandas Dataframe\n",
    "individuals_df=individuals[None]\n",
    "where_df = where_df[None]\n",
    "hh_main = hh_main[None]\n"
   ]
  },
  {
   "cell_type": "markdown",
   "metadata": {},
   "source": [
    "#### Lets see the data"
   ]
  },
  {
   "cell_type": "code",
   "execution_count": null,
   "metadata": {},
   "outputs": [],
   "source": [
    "individuals_df.head()"
   ]
  },
  {
   "cell_type": "code",
   "execution_count": null,
   "metadata": {},
   "outputs": [],
   "source": [
    "where_df.head()"
   ]
  },
  {
   "cell_type": "code",
   "execution_count": null,
   "metadata": {},
   "outputs": [],
   "source": [
    "hh_main.head()"
   ]
  },
  {
   "cell_type": "markdown",
   "metadata": {},
   "source": [
    " # Working with the data"
   ]
  },
  {
   "cell_type": "markdown",
   "metadata": {},
   "source": [
    "### R "
   ]
  },
  {
   "cell_type": "raw",
   "metadata": {},
   "source": [
    "# Merge individuals with HH strata\n",
    "ind_hh <- individuals %>% \n",
    "    left_join(\n",
    "        hh_main %>% \n",
    "            dplyr::select(hh_id, strata)\n",
    "    ) %>% \n",
    "    mutate(\n",
    "        left_final_cat = factor(left_final, \n",
    "                                levels = rev(c(1:6, 0, \"---\")), \n",
    "                                labels = rev(c(\"Somewhere\\nelse in PR\",\n",
    "                                               \"Florida\", \n",
    "                                               \"New York\", \n",
    "                                               \"Texas\", \n",
    "                                               \"Another\\nState\", \n",
    "                                               \"Another\\nCountry\", \n",
    "                                               \"Don't Know\", \n",
    "                                               NA)), \n",
    "                                ordered = TRUE))"
   ]
  },
  {
   "cell_type": "raw",
   "metadata": {},
   "source": [
    "left_df <- ind_hh %>% \n",
    "    mutate(left = ifelse(grepl(\"---\", left_final, fixed = TRUE), 0, 1),\n",
    "           age_cat = base::cut(age, \n",
    "                               c(seq(0, 85, 10), Inf), \n",
    "                               include.lowest = TRUE, \n",
    "                               right = FALSE, \n",
    "                               ordered = TRUE)) %>% \n",
    "    group_by(left) %>% \n",
    "    mutate(total_n = n()) %>% \n",
    "    group_by(age_cat, left_final_cat, left) %>% \n",
    "    summarize(\n",
    "        total_n = first(total_n), \n",
    "        n_obs = n(), \n",
    "        p_obs = n() / total_n)\n",
    "levels(left_df$age_cat)[length(levels(left_df$age_cat))] <- \"80+\"\n"
   ]
  },
  {
   "cell_type": "raw",
   "metadata": {},
   "source": [
    "\n",
    "left_df2 <- left_df[left_df$left == 0, ] \n",
    "left_df2$left_final_cat2 <- \"Still in Household/Died in 2017\"\n",
    "class(left_df2$left_final_cat2)\n"
   ]
  },
  {
   "cell_type": "markdown",
   "metadata": {},
   "source": [
    "### Python"
   ]
  },
  {
   "cell_type": "markdown",
   "metadata": {},
   "source": [
    " #### Merge individuals with HH strata"
   ]
  },
  {
   "cell_type": "code",
   "execution_count": null,
   "metadata": {},
   "outputs": [],
   "source": [
    "ind_hh = individuals_df.merge(hh_main, on=['hh_id', 'strata'], how='left')"
   ]
  },
  {
   "cell_type": "code",
   "execution_count": null,
   "metadata": {},
   "outputs": [],
   "source": [
    "factors = {'0': \"Don't Know\",\n",
    " '1': 'Somewhere else in PR',\n",
    " '2': 'Florida',\n",
    " '3': 'New York',\n",
    " '4': 'Texas',\n",
    " '5': 'Another State',\n",
    " '6': 'Another Country',\n",
    " '7': \"Don't Know\",\n",
    " '---': None}\n",
    "ind_hh = ind_hh.assign(left_final = ind_hh['left_final'].map(lambda x: factors[x]))"
   ]
  },
  {
   "cell_type": "code",
   "execution_count": null,
   "metadata": {},
   "outputs": [],
   "source": [
    "#ind_hh['left_final'].unique()"
   ]
  },
  {
   "cell_type": "code",
   "execution_count": null,
   "metadata": {},
   "outputs": [],
   "source": [
    "temp = ind_hh.assign(left = ind_hh['left_final'].map(lambda x: 0 if x != None else 1))"
   ]
  },
  {
   "cell_type": "code",
   "execution_count": null,
   "metadata": {},
   "outputs": [],
   "source": [
    "temp['age_cat'] = pd.cut(temp.age, list(range(0,85,10)) + [np.infty], include_lowest = True, right = False)"
   ]
  },
  {
   "cell_type": "markdown",
   "metadata": {},
   "source": [
    "#### We coulnt find the equivelent of all the transformations done in the data so we decided to group by age_cat and left_final car "
   ]
  },
  {
   "cell_type": "code",
   "execution_count": null,
   "metadata": {},
   "outputs": [],
   "source": [
    "left_df = temp.groupby([\"age_cat\", \"left_final_cat\"])"
   ]
  },
  {
   "cell_type": "code",
   "execution_count": null,
   "metadata": {},
   "outputs": [],
   "source": [
    "left_df = left_df.size().unstack()"
   ]
  },
  {
   "cell_type": "code",
   "execution_count": null,
   "metadata": {},
   "outputs": [],
   "source": [
    "left_df.columns"
   ]
  },
  {
   "cell_type": "markdown",
   "metadata": {},
   "source": [
    "# Plotting"
   ]
  },
  {
   "cell_type": "markdown",
   "metadata": {},
   "source": [
    "### R "
   ]
  },
  {
   "cell_type": "raw",
   "metadata": {},
   "source": [
    "fig2 <- ggplot() + \n",
    "    geom_bar(data = left_df %>% filter(left == 1), \n",
    "             aes(x = as.integer(age_cat) + .225, y = p_obs, \n",
    "                 fill = left_final_cat), \n",
    "             stat = \"identity\", alpha = .85, width = .45) + \n",
    "    scale_fill_manual(name = \"Left in 2017\", values = rev(pal_nejm()(7))) + \n",
    "    geom_bar(data = left_df2 %>% filter(left == 0), \n",
    "         aes(x = as.integer(age_cat) - .225, y = p_obs, colour = left_final_cat2),\n",
    "         stat = \"identity\", alpha = 1, width = .45) + \n",
    "    scale_colour_manual(name=\"\",values=\"grey\") +\n",
    "    theme_classic() + \n",
    "    theme(#axis.text.x = element_text(angle = 90, hjust = 1, vjust = .5), \n",
    "        legend.title=element_text(size = 9),\n",
    "        legend.position = c(1, .99), \n",
    "        legend.justification = c(1, 1)) +\n",
    "    scale_x_continuous(expand = c(0, 0),\n",
    "                     breaks = 1:9,\n",
    "                     labels = levels(left_df$age_cat)) +\n",
    "    scale_y_continuous(expand = c(0, 0), \n",
    "                       breaks = seq(0, .3, .05), \n",
    "                       labels = c(\"0.0\", \"\", \"0.1\", \"\", \"0.2\", \"\", \"0.3\")) +\n",
    "    geom_hline(yintercept = seq(0, .3, .05), \n",
    "               color = \"white\", alpha = .5) + \n",
    "    labs(x = \"Age group\", y = \"Proportion\")\n",
    "\n",
    "\n",
    "fig2\n",
    "\n",
    "ggsave('../figures/figure2.pdf', fig2, \n",
    "       scale = 1.25, width = 5.5, height = 6)\n"
   ]
  },
  {
   "cell_type": "markdown",
   "metadata": {},
   "source": [
    "### Python"
   ]
  },
  {
   "cell_type": "markdown",
   "metadata": {},
   "source": [
    "#### We did a simple plot with matplotlib"
   ]
  },
  {
   "cell_type": "code",
   "execution_count": null,
   "metadata": {},
   "outputs": [],
   "source": [
    "left_df.plot(kind='bar',stacked=True)"
   ]
  },
  {
   "cell_type": "markdown",
   "metadata": {},
   "source": [
    "#### Now using ggplot"
   ]
  },
  {
   "cell_type": "code",
   "execution_count": null,
   "metadata": {},
   "outputs": [],
   "source": [
    "from plotnine import *\n",
    "import pandas as pd\n"
   ]
  },
  {
   "cell_type": "code",
   "execution_count": null,
   "metadata": {},
   "outputs": [],
   "source": [
    "left_df.columns=left_df.columns.astype('str')\n",
    "left_df.reset_index()"
   ]
  },
  {
   "cell_type": "code",
   "execution_count": null,
   "metadata": {},
   "outputs": [],
   "source": [
    "left_df = temp.groupby([\"age_cat\", \"left_final_cat\"])"
   ]
  },
  {
   "cell_type": "code",
   "execution_count": null,
   "metadata": {},
   "outputs": [],
   "source": [
    "ggplot(temp) + geom_bar(aes(x='age_cat'))\n"
   ]
  },
  {
   "cell_type": "code",
   "execution_count": null,
   "metadata": {},
   "outputs": [],
   "source": [
    "ggplot(temp, aes(x=\"age_cat\", fill=\"left_final_cat\")) + geom_bar()"
   ]
  },
  {
   "cell_type": "code",
   "execution_count": null,
   "metadata": {
    "scrolled": true
   },
   "outputs": [],
   "source": [
    "ggplot(temp, aes(x=\"age_cat\", fill=\"left_final_cat\")) + geom_bar( alpha = .85, width = .45)"
   ]
  },
  {
   "cell_type": "code",
   "execution_count": null,
   "metadata": {},
   "outputs": [],
   "source": [
    "ggplot(temp, aes(x=\"age_cat\", fill=\"left_final_cat\")) + geom_bar(position='fill', alpha = .85, width = .45)"
   ]
  },
  {
   "cell_type": "code",
   "execution_count": null,
   "metadata": {},
   "outputs": [],
   "source": []
  },
  {
   "cell_type": "code",
   "execution_count": null,
   "metadata": {},
   "outputs": [],
   "source": []
  }
 ],
 "metadata": {
  "kernelspec": {
   "display_name": "Python 3",
   "language": "python",
   "name": "python3"
  },
  "language_info": {
   "codemirror_mode": {
    "name": "ipython",
    "version": 3
   },
   "file_extension": ".py",
   "mimetype": "text/x-python",
   "name": "python",
   "nbconvert_exporter": "python",
   "pygments_lexer": "ipython3",
   "version": "3.7.5"
  }
 },
 "nbformat": 4,
 "nbformat_minor": 2
}
