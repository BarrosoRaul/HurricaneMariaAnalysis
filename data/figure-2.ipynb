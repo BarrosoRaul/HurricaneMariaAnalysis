{
 "cells": [
  {
   "cell_type": "markdown",
   "metadata": {},
   "source": [
    "### This notebook convertes  \"Who left?\" Figure (figure-2) R script code to python. "
   ]
  },
  {
   "cell_type": "markdown",
   "metadata": {},
   "source": [
    "Author: Mariela Rosa Casillas & Camila Vazquez Rodriguez "
   ]
  },
  {
   "cell_type": "markdown",
   "metadata": {},
   "source": [
    "## We Installed "
   ]
  },
  {
   "cell_type": "code",
   "execution_count": 1,
   "metadata": {},
   "outputs": [
    {
     "name": "stdout",
     "output_type": "stream",
     "text": [
      "Requirement already satisfied: pandas in /usr/local/lib/python3.7/site-packages (0.25.1)\n",
      "Requirement already satisfied: pytz>=2017.2 in /usr/local/lib/python3.7/site-packages (from pandas) (2019.3)\n",
      "Requirement already satisfied: python-dateutil>=2.6.1 in /usr/local/lib/python3.7/site-packages (from pandas) (2.8.1)\n",
      "Requirement already satisfied: numpy>=1.13.3 in /usr/local/lib/python3.7/site-packages (from pandas) (1.17.4)\n",
      "Requirement already satisfied: six>=1.5 in /usr/local/lib/python3.7/site-packages (from python-dateutil>=2.6.1->pandas) (1.13.0)\n",
      "Requirement already satisfied: pyreadr in /usr/local/lib/python3.7/site-packages (0.2.2)\n",
      "Requirement already satisfied: numpy in /usr/local/lib/python3.7/site-packages (1.17.4)\n",
      "Requirement already satisfied: matplotlib in /usr/local/lib/python3.7/site-packages (3.1.1)\n",
      "Requirement already satisfied: pyparsing!=2.0.4,!=2.1.2,!=2.1.6,>=2.0.1 in /usr/local/lib/python3.7/site-packages (from matplotlib) (2.4.5)\n",
      "Requirement already satisfied: python-dateutil>=2.1 in /usr/local/lib/python3.7/site-packages (from matplotlib) (2.8.1)\n",
      "Requirement already satisfied: cycler>=0.10 in /usr/local/lib/python3.7/site-packages (from matplotlib) (0.10.0)\n",
      "Requirement already satisfied: numpy>=1.11 in /usr/local/lib/python3.7/site-packages (from matplotlib) (1.17.4)\n",
      "Requirement already satisfied: kiwisolver>=1.0.1 in /usr/local/lib/python3.7/site-packages (from matplotlib) (1.1.0)\n",
      "Requirement already satisfied: six>=1.5 in /usr/local/lib/python3.7/site-packages (from python-dateutil>=2.1->matplotlib) (1.13.0)\n",
      "Requirement already satisfied: setuptools in /usr/local/lib/python3.7/site-packages (from kiwisolver>=1.0.1->matplotlib) (41.6.0)\n",
      "Requirement already satisfied: plotnine in /usr/local/lib/python3.7/site-packages (0.6.0)\n",
      "Requirement already satisfied: scipy>=1.2.0 in /usr/local/lib/python3.7/site-packages (from plotnine) (1.3.1)\n",
      "Requirement already satisfied: pandas>=0.25.0 in /usr/local/lib/python3.7/site-packages (from plotnine) (0.25.1)\n",
      "Requirement already satisfied: statsmodels>=0.9.0 in /usr/local/lib/python3.7/site-packages (from plotnine) (0.10.2)\n",
      "Requirement already satisfied: descartes>=1.1.0 in /usr/local/lib/python3.7/site-packages (from plotnine) (1.1.0)\n",
      "Requirement already satisfied: matplotlib>=3.1.1 in /usr/local/lib/python3.7/site-packages (from plotnine) (3.1.1)\n",
      "Requirement already satisfied: numpy>=1.16.0 in /usr/local/lib/python3.7/site-packages (from plotnine) (1.17.4)\n",
      "Requirement already satisfied: mizani>=0.6.0 in /usr/local/lib/python3.7/site-packages (from plotnine) (0.6.0)\n",
      "Requirement already satisfied: patsy>=0.4.1 in /usr/local/lib/python3.7/site-packages (from plotnine) (0.5.1)\n",
      "Requirement already satisfied: python-dateutil>=2.6.1 in /usr/local/lib/python3.7/site-packages (from pandas>=0.25.0->plotnine) (2.8.1)\n",
      "Requirement already satisfied: pytz>=2017.2 in /usr/local/lib/python3.7/site-packages (from pandas>=0.25.0->plotnine) (2019.3)\n",
      "Requirement already satisfied: pyparsing!=2.0.4,!=2.1.2,!=2.1.6,>=2.0.1 in /usr/local/lib/python3.7/site-packages (from matplotlib>=3.1.1->plotnine) (2.4.5)\n",
      "Requirement already satisfied: cycler>=0.10 in /usr/local/lib/python3.7/site-packages (from matplotlib>=3.1.1->plotnine) (0.10.0)\n",
      "Requirement already satisfied: kiwisolver>=1.0.1 in /usr/local/lib/python3.7/site-packages (from matplotlib>=3.1.1->plotnine) (1.1.0)\n",
      "Requirement already satisfied: palettable in /usr/local/lib/python3.7/site-packages (from mizani>=0.6.0->plotnine) (3.3.0)\n",
      "Requirement already satisfied: six in /usr/local/lib/python3.7/site-packages (from patsy>=0.4.1->plotnine) (1.13.0)\n",
      "Requirement already satisfied: setuptools in /usr/local/lib/python3.7/site-packages (from kiwisolver>=1.0.1->matplotlib>=3.1.1->plotnine) (41.6.0)\n"
     ]
    }
   ],
   "source": [
    "! pip3 install pandas \n",
    "! pip3 install pyreadr \n",
    "! pip3 install numpy \n",
    "! pip3 install matplotlib\n",
    "! pip3 install plotnine \n"
   ]
  },
  {
   "cell_type": "markdown",
   "metadata": {},
   "source": [
    "### Pyreadr to load R data files with dataframes \n",
    "### Pandas to handle dataframes \n",
    "### Numpy for math operations\n",
    "### Matplotlib to plot \n",
    "### And plotnine, because it hass ggplot, to plot "
   ]
  },
  {
   "cell_type": "markdown",
   "metadata": {},
   "source": [
    "# Imports "
   ]
  },
  {
   "cell_type": "markdown",
   "metadata": {},
   "source": [
    "### R"
   ]
  },
  {
   "cell_type": "raw",
   "metadata": {},
   "source": [
    "## Imports ----\n",
    "source(\"../ref/base.R\")\n",
    "lib_eval(\"tidyverse\")\n",
    "lib_eval(\"ggsci\")\n",
    "lib_eval(\"patchwork\")\n"
   ]
  },
  {
   "cell_type": "markdown",
   "metadata": {},
   "source": [
    "### Python"
   ]
  },
  {
   "cell_type": "code",
   "execution_count": 2,
   "metadata": {},
   "outputs": [],
   "source": [
    "import pandas as pd\n",
    "import pyreadr\n",
    "import numpy as np\n",
    "import plotnine as p9\n",
    "from plotnine import ggplot, geom_point, aes, stat_smooth, facet_wrap, geom_bar"
   ]
  },
  {
   "cell_type": "markdown",
   "metadata": {},
   "source": [
    "# Load Data "
   ]
  },
  {
   "cell_type": "markdown",
   "metadata": {},
   "source": [
    "### R"
   ]
  },
  {
   "cell_type": "raw",
   "metadata": {},
   "source": [
    "## Data ----\n",
    "load('../data/rdata/ACS2016.Rdata')\n",
    "individuals <- readRDS(\"../data/rdata/ind_hh.RDS\")\n",
    "where_df <- readRDS(\"../data/rdata/where_df.RDS\")\n",
    "hh_main <- readRDS(\"../data/rdata/hh_main.RDS\")\n"
   ]
  },
  {
   "cell_type": "markdown",
   "metadata": {},
   "source": [
    "### Python "
   ]
  },
  {
   "cell_type": "code",
   "execution_count": 3,
   "metadata": {},
   "outputs": [],
   "source": [
    "# Load R files \n",
    "load_data = pyreadr.read_r('../data/rdata/ACS2016.Rdata')\n",
    "individuals = pyreadr.read_r(\"../data/rdata/ind_hh.RDS\")\n",
    "where_df = pyreadr.read_r(\"../data/rdata/where_df.RDS\")\n",
    "hh_main = pyreadr.read_r(\"../data/rdata/hh_main.RDS\")\n",
    "\n",
    "# Convert to Pandas Dataframe\n",
    "individuals_df=individuals[None]\n",
    "where_df = where_df[None]\n",
    "hh_main = hh_main[None]\n"
   ]
  },
  {
   "cell_type": "markdown",
   "metadata": {},
   "source": [
    "#### Lets see the data"
   ]
  },
  {
   "cell_type": "code",
   "execution_count": 4,
   "metadata": {},
   "outputs": [
    {
     "data": {
      "text/html": [
       "<div>\n",
       "<style scoped>\n",
       "    .dataframe tbody tr th:only-of-type {\n",
       "        vertical-align: middle;\n",
       "    }\n",
       "\n",
       "    .dataframe tbody tr th {\n",
       "        vertical-align: top;\n",
       "    }\n",
       "\n",
       "    .dataframe thead th {\n",
       "        text-align: right;\n",
       "    }\n",
       "</style>\n",
       "<table border=\"1\" class=\"dataframe\">\n",
       "  <thead>\n",
       "    <tr style=\"text-align: right;\">\n",
       "      <th></th>\n",
       "      <th>hh_id</th>\n",
       "      <th>username</th>\n",
       "      <th>completed_time</th>\n",
       "      <th>hh_id__1</th>\n",
       "      <th>gender</th>\n",
       "      <th>age</th>\n",
       "      <th>lived_movedin</th>\n",
       "      <th>movedin_month</th>\n",
       "      <th>movedin_bc_hurricane</th>\n",
       "      <th>status</th>\n",
       "      <th>missing_month</th>\n",
       "      <th>left_month</th>\n",
       "      <th>left_b_p_hurricane</th>\n",
       "      <th>left_bc_hurricane</th>\n",
       "      <th>left_first</th>\n",
       "      <th>left_final</th>\n",
       "      <th>hh_mem_num</th>\n",
       "      <th>strata</th>\n",
       "      <th>left_final_cat</th>\n",
       "    </tr>\n",
       "  </thead>\n",
       "  <tbody>\n",
       "    <tr>\n",
       "      <td>0</td>\n",
       "      <td>10</td>\n",
       "      <td>hrosa</td>\n",
       "      <td>2018-01-18 17:22:47</td>\n",
       "      <td>0.0</td>\n",
       "      <td>1</td>\n",
       "      <td>71.0</td>\n",
       "      <td>1</td>\n",
       "      <td>---</td>\n",
       "      <td>---</td>\n",
       "      <td>1</td>\n",
       "      <td>---</td>\n",
       "      <td>---</td>\n",
       "      <td>---</td>\n",
       "      <td>---</td>\n",
       "      <td>---</td>\n",
       "      <td>---</td>\n",
       "      <td>1</td>\n",
       "      <td>1.0</td>\n",
       "      <td>NA</td>\n",
       "    </tr>\n",
       "    <tr>\n",
       "      <td>1</td>\n",
       "      <td>10</td>\n",
       "      <td>hrosa</td>\n",
       "      <td>2018-01-18 17:22:47</td>\n",
       "      <td>1.0</td>\n",
       "      <td>0</td>\n",
       "      <td>50.0</td>\n",
       "      <td>1</td>\n",
       "      <td>---</td>\n",
       "      <td>---</td>\n",
       "      <td>1</td>\n",
       "      <td>---</td>\n",
       "      <td>---</td>\n",
       "      <td>---</td>\n",
       "      <td>---</td>\n",
       "      <td>---</td>\n",
       "      <td>---</td>\n",
       "      <td>2</td>\n",
       "      <td>1.0</td>\n",
       "      <td>NA</td>\n",
       "    </tr>\n",
       "    <tr>\n",
       "      <td>2</td>\n",
       "      <td>10</td>\n",
       "      <td>hrosa</td>\n",
       "      <td>2018-01-18 17:22:47</td>\n",
       "      <td>2.0</td>\n",
       "      <td>1</td>\n",
       "      <td>31.0</td>\n",
       "      <td>1</td>\n",
       "      <td>---</td>\n",
       "      <td>---</td>\n",
       "      <td>1</td>\n",
       "      <td>---</td>\n",
       "      <td>---</td>\n",
       "      <td>---</td>\n",
       "      <td>---</td>\n",
       "      <td>---</td>\n",
       "      <td>---</td>\n",
       "      <td>3</td>\n",
       "      <td>1.0</td>\n",
       "      <td>NA</td>\n",
       "    </tr>\n",
       "    <tr>\n",
       "      <td>3</td>\n",
       "      <td>100</td>\n",
       "      <td>pcott</td>\n",
       "      <td>2018-01-22 20:37:58</td>\n",
       "      <td>0.0</td>\n",
       "      <td>0</td>\n",
       "      <td>68.0</td>\n",
       "      <td>1</td>\n",
       "      <td>---</td>\n",
       "      <td>---</td>\n",
       "      <td>1</td>\n",
       "      <td>---</td>\n",
       "      <td>---</td>\n",
       "      <td>---</td>\n",
       "      <td>---</td>\n",
       "      <td>---</td>\n",
       "      <td>---</td>\n",
       "      <td>1</td>\n",
       "      <td>5.0</td>\n",
       "      <td>NA</td>\n",
       "    </tr>\n",
       "    <tr>\n",
       "      <td>4</td>\n",
       "      <td>100</td>\n",
       "      <td>pcott</td>\n",
       "      <td>2018-01-22 20:37:58</td>\n",
       "      <td>1.0</td>\n",
       "      <td>1</td>\n",
       "      <td>37.0</td>\n",
       "      <td>1</td>\n",
       "      <td>---</td>\n",
       "      <td>---</td>\n",
       "      <td>1</td>\n",
       "      <td>---</td>\n",
       "      <td>---</td>\n",
       "      <td>---</td>\n",
       "      <td>---</td>\n",
       "      <td>---</td>\n",
       "      <td>---</td>\n",
       "      <td>2</td>\n",
       "      <td>5.0</td>\n",
       "      <td>NA</td>\n",
       "    </tr>\n",
       "  </tbody>\n",
       "</table>\n",
       "</div>"
      ],
      "text/plain": [
       "  hh_id username      completed_time  hh_id__1 gender   age lived_movedin  \\\n",
       "0    10    hrosa 2018-01-18 17:22:47       0.0      1  71.0             1   \n",
       "1    10    hrosa 2018-01-18 17:22:47       1.0      0  50.0             1   \n",
       "2    10    hrosa 2018-01-18 17:22:47       2.0      1  31.0             1   \n",
       "3   100    pcott 2018-01-22 20:37:58       0.0      0  68.0             1   \n",
       "4   100    pcott 2018-01-22 20:37:58       1.0      1  37.0             1   \n",
       "\n",
       "  movedin_month movedin_bc_hurricane status missing_month left_month  \\\n",
       "0           ---                  ---      1           ---        ---   \n",
       "1           ---                  ---      1           ---        ---   \n",
       "2           ---                  ---      1           ---        ---   \n",
       "3           ---                  ---      1           ---        ---   \n",
       "4           ---                  ---      1           ---        ---   \n",
       "\n",
       "  left_b_p_hurricane left_bc_hurricane left_first left_final hh_mem_num  \\\n",
       "0                ---               ---        ---        ---          1   \n",
       "1                ---               ---        ---        ---          2   \n",
       "2                ---               ---        ---        ---          3   \n",
       "3                ---               ---        ---        ---          1   \n",
       "4                ---               ---        ---        ---          2   \n",
       "\n",
       "   strata left_final_cat  \n",
       "0     1.0             NA  \n",
       "1     1.0             NA  \n",
       "2     1.0             NA  \n",
       "3     5.0             NA  \n",
       "4     5.0             NA  "
      ]
     },
     "execution_count": 4,
     "metadata": {},
     "output_type": "execute_result"
    }
   ],
   "source": [
    "individuals_df.head()"
   ]
  },
  {
   "cell_type": "code",
   "execution_count": 5,
   "metadata": {},
   "outputs": [
    {
     "data": {
      "text/html": [
       "<div>\n",
       "<style scoped>\n",
       "    .dataframe tbody tr th:only-of-type {\n",
       "        vertical-align: middle;\n",
       "    }\n",
       "\n",
       "    .dataframe tbody tr th {\n",
       "        vertical-align: top;\n",
       "    }\n",
       "\n",
       "    .dataframe thead th {\n",
       "        text-align: right;\n",
       "    }\n",
       "</style>\n",
       "<table border=\"1\" class=\"dataframe\">\n",
       "  <thead>\n",
       "    <tr style=\"text-align: right;\">\n",
       "      <th></th>\n",
       "      <th>strata</th>\n",
       "      <th>left_final</th>\n",
       "      <th>left_final_cat</th>\n",
       "      <th>count</th>\n",
       "      <th>prop</th>\n",
       "      <th>rev_left_cat</th>\n",
       "    </tr>\n",
       "  </thead>\n",
       "  <tbody>\n",
       "    <tr>\n",
       "      <td>0</td>\n",
       "      <td>1.0</td>\n",
       "      <td>1</td>\n",
       "      <td>Somewhere\\nelse in PR</td>\n",
       "      <td>27</td>\n",
       "      <td>0.028125</td>\n",
       "      <td>Somewhere\\nelse in PR</td>\n",
       "    </tr>\n",
       "    <tr>\n",
       "      <td>1</td>\n",
       "      <td>1.0</td>\n",
       "      <td>2</td>\n",
       "      <td>Florida</td>\n",
       "      <td>6</td>\n",
       "      <td>0.006250</td>\n",
       "      <td>Florida</td>\n",
       "    </tr>\n",
       "    <tr>\n",
       "      <td>2</td>\n",
       "      <td>1.0</td>\n",
       "      <td>3</td>\n",
       "      <td>New York</td>\n",
       "      <td>3</td>\n",
       "      <td>0.003125</td>\n",
       "      <td>New York</td>\n",
       "    </tr>\n",
       "    <tr>\n",
       "      <td>3</td>\n",
       "      <td>1.0</td>\n",
       "      <td>4</td>\n",
       "      <td>Texas</td>\n",
       "      <td>4</td>\n",
       "      <td>0.004167</td>\n",
       "      <td>Texas</td>\n",
       "    </tr>\n",
       "    <tr>\n",
       "      <td>4</td>\n",
       "      <td>1.0</td>\n",
       "      <td>5</td>\n",
       "      <td>Another\\nState</td>\n",
       "      <td>12</td>\n",
       "      <td>0.012500</td>\n",
       "      <td>Another\\nState</td>\n",
       "    </tr>\n",
       "  </tbody>\n",
       "</table>\n",
       "</div>"
      ],
      "text/plain": [
       "   strata left_final         left_final_cat  count      prop  \\\n",
       "0     1.0          1  Somewhere\\nelse in PR     27  0.028125   \n",
       "1     1.0          2                Florida      6  0.006250   \n",
       "2     1.0          3               New York      3  0.003125   \n",
       "3     1.0          4                  Texas      4  0.004167   \n",
       "4     1.0          5         Another\\nState     12  0.012500   \n",
       "\n",
       "            rev_left_cat  \n",
       "0  Somewhere\\nelse in PR  \n",
       "1                Florida  \n",
       "2               New York  \n",
       "3                  Texas  \n",
       "4         Another\\nState  "
      ]
     },
     "execution_count": 5,
     "metadata": {},
     "output_type": "execute_result"
    }
   ],
   "source": [
    "where_df.head()"
   ]
  },
  {
   "cell_type": "code",
   "execution_count": 6,
   "metadata": {},
   "outputs": [
    {
     "data": {
      "text/html": [
       "<div>\n",
       "<style scoped>\n",
       "    .dataframe tbody tr th:only-of-type {\n",
       "        vertical-align: middle;\n",
       "    }\n",
       "\n",
       "    .dataframe tbody tr th {\n",
       "        vertical-align: top;\n",
       "    }\n",
       "\n",
       "    .dataframe thead th {\n",
       "        text-align: right;\n",
       "    }\n",
       "</style>\n",
       "<table border=\"1\" class=\"dataframe\">\n",
       "  <thead>\n",
       "    <tr style=\"text-align: right;\">\n",
       "      <th></th>\n",
       "      <th>hh_id</th>\n",
       "      <th>id</th>\n",
       "      <th>house_status</th>\n",
       "      <th>consent</th>\n",
       "      <th>hh_size</th>\n",
       "      <th>access_med.no_911</th>\n",
       "      <th>access_med.no_transport</th>\n",
       "      <th>access_med.roads_damaged</th>\n",
       "      <th>access_med.facility_closed</th>\n",
       "      <th>access_med.no_doctors</th>\n",
       "      <th>...</th>\n",
       "      <th>cell.sept</th>\n",
       "      <th>cell.oct</th>\n",
       "      <th>cell.nov</th>\n",
       "      <th>cell.dec</th>\n",
       "      <th>mort_neighbor</th>\n",
       "      <th>left_neighbor</th>\n",
       "      <th>neighbors_num</th>\n",
       "      <th>strata</th>\n",
       "      <th>flag</th>\n",
       "      <th>mun_id</th>\n",
       "    </tr>\n",
       "  </thead>\n",
       "  <tbody>\n",
       "    <tr>\n",
       "      <td>0</td>\n",
       "      <td>10</td>\n",
       "      <td>575</td>\n",
       "      <td>---</td>\n",
       "      <td>1</td>\n",
       "      <td>3.0</td>\n",
       "      <td>99</td>\n",
       "      <td>99</td>\n",
       "      <td>99</td>\n",
       "      <td>99</td>\n",
       "      <td>99</td>\n",
       "      <td>...</td>\n",
       "      <td>2</td>\n",
       "      <td>4</td>\n",
       "      <td>4</td>\n",
       "      <td>0</td>\n",
       "      <td>99</td>\n",
       "      <td>---</td>\n",
       "      <td>3</td>\n",
       "      <td>1.0</td>\n",
       "      <td>0.0</td>\n",
       "      <td>3.0</td>\n",
       "    </tr>\n",
       "    <tr>\n",
       "      <td>1</td>\n",
       "      <td>100</td>\n",
       "      <td>630</td>\n",
       "      <td>---</td>\n",
       "      <td>1</td>\n",
       "      <td>3.0</td>\n",
       "      <td>99</td>\n",
       "      <td>99</td>\n",
       "      <td>99</td>\n",
       "      <td>99</td>\n",
       "      <td>99</td>\n",
       "      <td>...</td>\n",
       "      <td>2</td>\n",
       "      <td>4</td>\n",
       "      <td>2</td>\n",
       "      <td>0</td>\n",
       "      <td>99</td>\n",
       "      <td>---</td>\n",
       "      <td>3</td>\n",
       "      <td>5.0</td>\n",
       "      <td>0.0</td>\n",
       "      <td>15.0</td>\n",
       "    </tr>\n",
       "    <tr>\n",
       "      <td>2</td>\n",
       "      <td>1000</td>\n",
       "      <td>717</td>\n",
       "      <td>1</td>\n",
       "      <td>1</td>\n",
       "      <td>3.0</td>\n",
       "      <td>99</td>\n",
       "      <td>99</td>\n",
       "      <td>99</td>\n",
       "      <td>99</td>\n",
       "      <td>99</td>\n",
       "      <td>...</td>\n",
       "      <td>3</td>\n",
       "      <td>4</td>\n",
       "      <td>4</td>\n",
       "      <td>3</td>\n",
       "      <td>99</td>\n",
       "      <td>6</td>\n",
       "      <td>2</td>\n",
       "      <td>2.0</td>\n",
       "      <td>1.0</td>\n",
       "      <td>22.0</td>\n",
       "    </tr>\n",
       "    <tr>\n",
       "      <td>3</td>\n",
       "      <td>1001</td>\n",
       "      <td>856</td>\n",
       "      <td>1</td>\n",
       "      <td>1</td>\n",
       "      <td>2.0</td>\n",
       "      <td>99</td>\n",
       "      <td>99</td>\n",
       "      <td>99</td>\n",
       "      <td>99</td>\n",
       "      <td>99</td>\n",
       "      <td>...</td>\n",
       "      <td>2</td>\n",
       "      <td>4</td>\n",
       "      <td>4</td>\n",
       "      <td>3</td>\n",
       "      <td>0</td>\n",
       "      <td>0</td>\n",
       "      <td>4</td>\n",
       "      <td>6.0</td>\n",
       "      <td>1.0</td>\n",
       "      <td>11.0</td>\n",
       "    </tr>\n",
       "    <tr>\n",
       "      <td>4</td>\n",
       "      <td>1002</td>\n",
       "      <td>475</td>\n",
       "      <td>1</td>\n",
       "      <td>1</td>\n",
       "      <td>3.0</td>\n",
       "      <td>99</td>\n",
       "      <td>99</td>\n",
       "      <td>99</td>\n",
       "      <td>1</td>\n",
       "      <td>3</td>\n",
       "      <td>...</td>\n",
       "      <td>2</td>\n",
       "      <td>2</td>\n",
       "      <td>0</td>\n",
       "      <td>0</td>\n",
       "      <td>0</td>\n",
       "      <td>3</td>\n",
       "      <td>3</td>\n",
       "      <td>4.0</td>\n",
       "      <td>1.0</td>\n",
       "      <td>21.0</td>\n",
       "    </tr>\n",
       "  </tbody>\n",
       "</table>\n",
       "<p>5 rows × 46 columns</p>\n",
       "</div>"
      ],
      "text/plain": [
       "  hh_id   id house_status consent  hh_size access_med.no_911  \\\n",
       "0    10  575          ---       1      3.0                99   \n",
       "1   100  630          ---       1      3.0                99   \n",
       "2  1000  717            1       1      3.0                99   \n",
       "3  1001  856            1       1      2.0                99   \n",
       "4  1002  475            1       1      3.0                99   \n",
       "\n",
       "  access_med.no_transport access_med.roads_damaged access_med.facility_closed  \\\n",
       "0                      99                       99                         99   \n",
       "1                      99                       99                         99   \n",
       "2                      99                       99                         99   \n",
       "3                      99                       99                         99   \n",
       "4                      99                       99                          1   \n",
       "\n",
       "  access_med.no_doctors  ... cell.sept cell.oct cell.nov cell.dec  \\\n",
       "0                    99  ...         2        4        4        0   \n",
       "1                    99  ...         2        4        2        0   \n",
       "2                    99  ...         3        4        4        3   \n",
       "3                    99  ...         2        4        4        3   \n",
       "4                     3  ...         2        2        0        0   \n",
       "\n",
       "  mort_neighbor left_neighbor neighbors_num strata flag mun_id  \n",
       "0            99           ---             3    1.0  0.0    3.0  \n",
       "1            99           ---             3    5.0  0.0   15.0  \n",
       "2            99             6             2    2.0  1.0   22.0  \n",
       "3             0             0             4    6.0  1.0   11.0  \n",
       "4             0             3             3    4.0  1.0   21.0  \n",
       "\n",
       "[5 rows x 46 columns]"
      ]
     },
     "execution_count": 6,
     "metadata": {},
     "output_type": "execute_result"
    }
   ],
   "source": [
    "hh_main.head()"
   ]
  },
  {
   "cell_type": "markdown",
   "metadata": {},
   "source": [
    " # Working with the data"
   ]
  },
  {
   "cell_type": "markdown",
   "metadata": {},
   "source": [
    "### R "
   ]
  },
  {
   "cell_type": "raw",
   "metadata": {},
   "source": [
    "# Merge individuals with HH strata\n",
    "ind_hh <- individuals %>% \n",
    "    left_join(\n",
    "        hh_main %>% \n",
    "            dplyr::select(hh_id, strata)\n",
    "    ) %>% \n",
    "    mutate(\n",
    "        left_final_cat = factor(left_final, \n",
    "                                levels = rev(c(1:6, 0, \"---\")), \n",
    "                                labels = rev(c(\"Somewhere\\nelse in PR\",\n",
    "                                               \"Florida\", \n",
    "                                               \"New York\", \n",
    "                                               \"Texas\", \n",
    "                                               \"Another\\nState\", \n",
    "                                               \"Another\\nCountry\", \n",
    "                                               \"Don't Know\", \n",
    "                                               NA)), \n",
    "                                ordered = TRUE))"
   ]
  },
  {
   "cell_type": "raw",
   "metadata": {},
   "source": [
    "left_df <- ind_hh %>% \n",
    "    mutate(left = ifelse(grepl(\"---\", left_final, fixed = TRUE), 0, 1),\n",
    "           age_cat = base::cut(age, \n",
    "                               c(seq(0, 85, 10), Inf), \n",
    "                               include.lowest = TRUE, \n",
    "                               right = FALSE, \n",
    "                               ordered = TRUE)) %>% \n",
    "    group_by(left) %>% \n",
    "    mutate(total_n = n()) %>% \n",
    "    group_by(age_cat, left_final_cat, left) %>% \n",
    "    summarize(\n",
    "        total_n = first(total_n), \n",
    "        n_obs = n(), \n",
    "        p_obs = n() / total_n)\n",
    "levels(left_df$age_cat)[length(levels(left_df$age_cat))] <- \"80+\"\n"
   ]
  },
  {
   "cell_type": "raw",
   "metadata": {},
   "source": [
    "\n",
    "left_df2 <- left_df[left_df$left == 0, ] \n",
    "left_df2$left_final_cat2 <- \"Still in Household/Died in 2017\"\n",
    "class(left_df2$left_final_cat2)\n"
   ]
  },
  {
   "cell_type": "markdown",
   "metadata": {},
   "source": [
    "### Python"
   ]
  },
  {
   "cell_type": "markdown",
   "metadata": {},
   "source": [
    " #### Merge individuals with HH strata"
   ]
  },
  {
   "cell_type": "code",
   "execution_count": 7,
   "metadata": {},
   "outputs": [],
   "source": [
    "ind_hh = individuals_df.merge(hh_main, on=['hh_id', 'strata'], how='left')"
   ]
  },
  {
   "cell_type": "code",
   "execution_count": 8,
   "metadata": {},
   "outputs": [],
   "source": [
    "factors = {'0': \"Don't Know\",\n",
    " '1': 'Somewhere else in PR',\n",
    " '2': 'Florida',\n",
    " '3': 'New York',\n",
    " '4': 'Texas',\n",
    " '5': 'Another State',\n",
    " '6': 'Another Country',\n",
    " '7': \"Don't Know\",\n",
    " '---': None}\n",
    "ind_hh = ind_hh.assign(left_final = ind_hh['left_final'].map(lambda x: factors[x]))"
   ]
  },
  {
   "cell_type": "code",
   "execution_count": 9,
   "metadata": {},
   "outputs": [],
   "source": [
    "#ind_hh['left_final'].unique()"
   ]
  },
  {
   "cell_type": "code",
   "execution_count": 10,
   "metadata": {},
   "outputs": [],
   "source": [
    "temp = ind_hh.assign(left = ind_hh['left_final'].map(lambda x: 0 if x != None else 1))"
   ]
  },
  {
   "cell_type": "code",
   "execution_count": 11,
   "metadata": {},
   "outputs": [],
   "source": [
    "temp['age_cat'] = pd.cut(temp.age, list(range(0,85,10)) + [np.infty], include_lowest = True, right = False)"
   ]
  },
  {
   "cell_type": "markdown",
   "metadata": {},
   "source": [
    "#### We coulnt find the equivelent of all the transformations done in the data so we decided to group by age_cat and left_final car "
   ]
  },
  {
   "cell_type": "code",
   "execution_count": 12,
   "metadata": {},
   "outputs": [],
   "source": [
    "left_df = temp.groupby([\"age_cat\", \"left_final_cat\"])"
   ]
  },
  {
   "cell_type": "code",
   "execution_count": 13,
   "metadata": {},
   "outputs": [],
   "source": [
    "left_df = left_df.size().unstack()"
   ]
  },
  {
   "cell_type": "code",
   "execution_count": 14,
   "metadata": {},
   "outputs": [
    {
     "data": {
      "text/plain": [
       "CategoricalIndex(['Another\\nCountry', 'Another\\nState', 'Don't Know',\n",
       "                  'Florida', 'NA', 'New York', 'Somewhere\\nelse in PR',\n",
       "                  'Texas'],\n",
       "                 categories=['Another\\nCountry', 'Another\\nState', 'Don't Know', 'Florida', 'NA', 'New York', 'Somewhere\\nelse in PR', 'Texas'], ordered=False, name='left_final_cat', dtype='category')"
      ]
     },
     "execution_count": 14,
     "metadata": {},
     "output_type": "execute_result"
    }
   ],
   "source": [
    "left_df.columns"
   ]
  },
  {
   "cell_type": "markdown",
   "metadata": {},
   "source": [
    "# Plotting"
   ]
  },
  {
   "cell_type": "markdown",
   "metadata": {},
   "source": [
    "### R "
   ]
  },
  {
   "cell_type": "raw",
   "metadata": {},
   "source": [
    "fig2 <- ggplot() + \n",
    "    geom_bar(data = left_df %>% filter(left == 1), \n",
    "             aes(x = as.integer(age_cat) + .225, y = p_obs, \n",
    "                 fill = left_final_cat), \n",
    "             stat = \"identity\", alpha = .85, width = .45) + \n",
    "    scale_fill_manual(name = \"Left in 2017\", values = rev(pal_nejm()(7))) + \n",
    "    geom_bar(data = left_df2 %>% filter(left == 0), \n",
    "         aes(x = as.integer(age_cat) - .225, y = p_obs, colour = left_final_cat2),\n",
    "         stat = \"identity\", alpha = 1, width = .45) + \n",
    "    scale_colour_manual(name=\"\",values=\"grey\") +\n",
    "    theme_classic() + \n",
    "    theme(#axis.text.x = element_text(angle = 90, hjust = 1, vjust = .5), \n",
    "        legend.title=element_text(size = 9),\n",
    "        legend.position = c(1, .99), \n",
    "        legend.justification = c(1, 1)) +\n",
    "    scale_x_continuous(expand = c(0, 0),\n",
    "                     breaks = 1:9,\n",
    "                     labels = levels(left_df$age_cat)) +\n",
    "    scale_y_continuous(expand = c(0, 0), \n",
    "                       breaks = seq(0, .3, .05), \n",
    "                       labels = c(\"0.0\", \"\", \"0.1\", \"\", \"0.2\", \"\", \"0.3\")) +\n",
    "    geom_hline(yintercept = seq(0, .3, .05), \n",
    "               color = \"white\", alpha = .5) + \n",
    "    labs(x = \"Age group\", y = \"Proportion\")\n",
    "\n",
    "\n",
    "fig2\n",
    "\n",
    "ggsave('../figures/figure2.pdf', fig2, \n",
    "       scale = 1.25, width = 5.5, height = 6)\n"
   ]
  },
  {
   "cell_type": "markdown",
   "metadata": {},
   "source": [
    "### Python"
   ]
  },
  {
   "cell_type": "markdown",
   "metadata": {},
   "source": [
    "#### We did a simple plot with matplotlib"
   ]
  },
  {
   "cell_type": "code",
   "execution_count": 15,
   "metadata": {},
   "outputs": [
    {
     "data": {
      "text/plain": [
       "<matplotlib.axes._subplots.AxesSubplot at 0x12533ce50>"
      ]
     },
     "execution_count": 15,
     "metadata": {},
     "output_type": "execute_result"
    },
    {
     "data": {
      "image/png": "[encoded data removed]",
      "text/plain": [
       "<Figure size 432x288 with 1 Axes>"
      ]
     },
     "metadata": {
      "needs_background": "light"
     },
     "output_type": "display_data"
    }
   ],
   "source": [
    "left_df.plot(kind='bar',stacked=True)"
   ]
  },
  {
   "cell_type": "markdown",
   "metadata": {},
   "source": [
    "#### Now using ggplot"
   ]
  },
  {
   "cell_type": "code",
   "execution_count": 16,
   "metadata": {},
   "outputs": [],
   "source": [
    "from plotnine import *\n",
    "import pandas as pd\n"
   ]
  },
  {
   "cell_type": "code",
   "execution_count": 17,
   "metadata": {},
   "outputs": [
    {
     "data": {
      "text/html": [
       "<div>\n",
       "<style scoped>\n",
       "    .dataframe tbody tr th:only-of-type {\n",
       "        vertical-align: middle;\n",
       "    }\n",
       "\n",
       "    .dataframe tbody tr th {\n",
       "        vertical-align: top;\n",
       "    }\n",
       "\n",
       "    .dataframe thead th {\n",
       "        text-align: right;\n",
       "    }\n",
       "</style>\n",
       "<table border=\"1\" class=\"dataframe\">\n",
       "  <thead>\n",
       "    <tr style=\"text-align: right;\">\n",
       "      <th>left_final_cat</th>\n",
       "      <th>age_cat</th>\n",
       "      <th>Another\\nCountry</th>\n",
       "      <th>Another\\nState</th>\n",
       "      <th>Don't Know</th>\n",
       "      <th>Florida</th>\n",
       "      <th>NA</th>\n",
       "      <th>New York</th>\n",
       "      <th>Somewhere\\nelse in PR</th>\n",
       "      <th>Texas</th>\n",
       "    </tr>\n",
       "  </thead>\n",
       "  <tbody>\n",
       "    <tr>\n",
       "      <td>0</td>\n",
       "      <td>[0.0, 10.0)</td>\n",
       "      <td>NaN</td>\n",
       "      <td>21.0</td>\n",
       "      <td>NaN</td>\n",
       "      <td>6.0</td>\n",
       "      <td>677.0</td>\n",
       "      <td>5.0</td>\n",
       "      <td>38.0</td>\n",
       "      <td>3.0</td>\n",
       "    </tr>\n",
       "    <tr>\n",
       "      <td>1</td>\n",
       "      <td>[10.0, 20.0)</td>\n",
       "      <td>NaN</td>\n",
       "      <td>7.0</td>\n",
       "      <td>1.0</td>\n",
       "      <td>5.0</td>\n",
       "      <td>890.0</td>\n",
       "      <td>NaN</td>\n",
       "      <td>35.0</td>\n",
       "      <td>2.0</td>\n",
       "    </tr>\n",
       "    <tr>\n",
       "      <td>2</td>\n",
       "      <td>[20.0, 30.0)</td>\n",
       "      <td>2.0</td>\n",
       "      <td>42.0</td>\n",
       "      <td>1.0</td>\n",
       "      <td>18.0</td>\n",
       "      <td>1097.0</td>\n",
       "      <td>4.0</td>\n",
       "      <td>56.0</td>\n",
       "      <td>7.0</td>\n",
       "    </tr>\n",
       "    <tr>\n",
       "      <td>3</td>\n",
       "      <td>[30.0, 40.0)</td>\n",
       "      <td>NaN</td>\n",
       "      <td>9.0</td>\n",
       "      <td>NaN</td>\n",
       "      <td>6.0</td>\n",
       "      <td>918.0</td>\n",
       "      <td>2.0</td>\n",
       "      <td>33.0</td>\n",
       "      <td>1.0</td>\n",
       "    </tr>\n",
       "    <tr>\n",
       "      <td>4</td>\n",
       "      <td>[40.0, 50.0)</td>\n",
       "      <td>NaN</td>\n",
       "      <td>7.0</td>\n",
       "      <td>NaN</td>\n",
       "      <td>2.0</td>\n",
       "      <td>976.0</td>\n",
       "      <td>NaN</td>\n",
       "      <td>24.0</td>\n",
       "      <td>NaN</td>\n",
       "    </tr>\n",
       "    <tr>\n",
       "      <td>5</td>\n",
       "      <td>[50.0, 60.0)</td>\n",
       "      <td>NaN</td>\n",
       "      <td>8.0</td>\n",
       "      <td>NaN</td>\n",
       "      <td>4.0</td>\n",
       "      <td>1359.0</td>\n",
       "      <td>1.0</td>\n",
       "      <td>28.0</td>\n",
       "      <td>NaN</td>\n",
       "    </tr>\n",
       "    <tr>\n",
       "      <td>6</td>\n",
       "      <td>[60.0, 70.0)</td>\n",
       "      <td>NaN</td>\n",
       "      <td>5.0</td>\n",
       "      <td>NaN</td>\n",
       "      <td>3.0</td>\n",
       "      <td>1478.0</td>\n",
       "      <td>NaN</td>\n",
       "      <td>5.0</td>\n",
       "      <td>NaN</td>\n",
       "    </tr>\n",
       "    <tr>\n",
       "      <td>7</td>\n",
       "      <td>[70.0, 80.0)</td>\n",
       "      <td>NaN</td>\n",
       "      <td>2.0</td>\n",
       "      <td>1.0</td>\n",
       "      <td>2.0</td>\n",
       "      <td>1115.0</td>\n",
       "      <td>NaN</td>\n",
       "      <td>9.0</td>\n",
       "      <td>NaN</td>\n",
       "    </tr>\n",
       "    <tr>\n",
       "      <td>8</td>\n",
       "      <td>[80.0, inf)</td>\n",
       "      <td>NaN</td>\n",
       "      <td>1.0</td>\n",
       "      <td>1.0</td>\n",
       "      <td>NaN</td>\n",
       "      <td>594.0</td>\n",
       "      <td>NaN</td>\n",
       "      <td>11.0</td>\n",
       "      <td>NaN</td>\n",
       "    </tr>\n",
       "  </tbody>\n",
       "</table>\n",
       "</div>"
      ],
      "text/plain": [
       "left_final_cat       age_cat  Another\\nCountry  Another\\nState  Don't Know  \\\n",
       "0                [0.0, 10.0)               NaN            21.0         NaN   \n",
       "1               [10.0, 20.0)               NaN             7.0         1.0   \n",
       "2               [20.0, 30.0)               2.0            42.0         1.0   \n",
       "3               [30.0, 40.0)               NaN             9.0         NaN   \n",
       "4               [40.0, 50.0)               NaN             7.0         NaN   \n",
       "5               [50.0, 60.0)               NaN             8.0         NaN   \n",
       "6               [60.0, 70.0)               NaN             5.0         NaN   \n",
       "7               [70.0, 80.0)               NaN             2.0         1.0   \n",
       "8                [80.0, inf)               NaN             1.0         1.0   \n",
       "\n",
       "left_final_cat  Florida      NA  New York  Somewhere\\nelse in PR  Texas  \n",
       "0                   6.0   677.0       5.0                   38.0    3.0  \n",
       "1                   5.0   890.0       NaN                   35.0    2.0  \n",
       "2                  18.0  1097.0       4.0                   56.0    7.0  \n",
       "3                   6.0   918.0       2.0                   33.0    1.0  \n",
       "4                   2.0   976.0       NaN                   24.0    NaN  \n",
       "5                   4.0  1359.0       1.0                   28.0    NaN  \n",
       "6                   3.0  1478.0       NaN                    5.0    NaN  \n",
       "7                   2.0  1115.0       NaN                    9.0    NaN  \n",
       "8                   NaN   594.0       NaN                   11.0    NaN  "
      ]
     },
     "execution_count": 17,
     "metadata": {},
     "output_type": "execute_result"
    }
   ],
   "source": [
    "left_df.columns=left_df.columns.astype('str')\n",
    "left_df.reset_index()"
   ]
  },
  {
   "cell_type": "code",
   "execution_count": 18,
   "metadata": {},
   "outputs": [],
   "source": [
    "left_df = temp.groupby([\"age_cat\", \"left_final_cat\"])"
   ]
  },
  {
   "cell_type": "code",
   "execution_count": 19,
   "metadata": {},
   "outputs": [
    {
     "data": {
      "image/png": "[encoded data removed]",
      "text/plain": [
       "<Figure size 640x480 with 1 Axes>"
      ]
     },
     "metadata": {},
     "output_type": "display_data"
    },
    {
     "data": {
      "text/plain": [
       "<ggplot: (310236613)>"
      ]
     },
     "execution_count": 19,
     "metadata": {},
     "output_type": "execute_result"
    }
   ],
   "source": [
    "ggplot(temp) + geom_bar(aes(x='age_cat'))\n"
   ]
  },
  {
   "cell_type": "code",
   "execution_count": 20,
   "metadata": {},
   "outputs": [
    {
     "data": {
      "image/png": "[encoded data removed]",
      "text/plain": [
       "<Figure size 640x480 with 1 Axes>"
      ]
     },
     "metadata": {},
     "output_type": "display_data"
    },
    {
     "data": {
      "text/plain": [
       "<ggplot: (310588285)>"
      ]
     },
     "execution_count": 20,
     "metadata": {},
     "output_type": "execute_result"
    }
   ],
   "source": [
    "ggplot(temp, aes(x=\"age_cat\", fill=\"left_final_cat\")) + geom_bar()"
   ]
  },
  {
   "cell_type": "code",
   "execution_count": 21,
   "metadata": {
    "scrolled": true
   },
   "outputs": [
    {
     "data": {
      "image/png": "[encoded data removed]",
      "text/plain": [
       "<Figure size 640x480 with 1 Axes>"
      ]
     },
     "metadata": {},
     "output_type": "display_data"
    },
    {
     "data": {
      "text/plain": [
       "<ggplot: (310597541)>"
      ]
     },
     "execution_count": 21,
     "metadata": {},
     "output_type": "execute_result"
    }
   ],
   "source": [
    "ggplot(temp, aes(x=\"age_cat\", fill=\"left_final_cat\")) + geom_bar( alpha = .85, width = .45)"
   ]
  },
  {
   "cell_type": "code",
   "execution_count": 22,
   "metadata": {},
   "outputs": [
    {
     "data": {
      "image/png": "[encoded data removed]",
      "text/plain": [
       "<Figure size 640x480 with 1 Axes>"
      ]
     },
     "metadata": {},
     "output_type": "display_data"
    },
    {
     "data": {
      "text/plain": [
       "<ggplot: (310592941)>"
      ]
     },
     "execution_count": 22,
     "metadata": {},
     "output_type": "execute_result"
    }
   ],
   "source": [
    "ggplot(temp, aes(x=\"age_cat\", fill=\"left_final_cat\")) + geom_bar(position='fill', alpha = .85, width = .45)"
   ]
  },
  {
   "cell_type": "code",
   "execution_count": null,
   "metadata": {},
   "outputs": [],
   "source": []
  },
  {
   "cell_type": "code",
   "execution_count": null,
   "metadata": {},
   "outputs": [],
   "source": []
  }
 ],
 "metadata": {
  "kernelspec": {
   "display_name": "Python 3",
   "language": "python",
   "name": "python3"
  },
  "language_info": {
   "codemirror_mode": {
    "name": "ipython",
    "version": 3
   },
   "file_extension": ".py",
   "mimetype": "text/x-python",
   "name": "python",
   "nbconvert_exporter": "python",
   "pygments_lexer": "ipython3",
   "version": "3.7.5"
  }
 },
 "nbformat": 4,
 "nbformat_minor": 2
}
