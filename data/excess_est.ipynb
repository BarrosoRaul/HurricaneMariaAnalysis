{
 "cells": [
  {
   "cell_type": "markdown",
   "metadata": {},
   "source": [
    "# Code of excess_est.R "
   ]
  },
  {
   "cell_type": "raw",
   "metadata": {},
   "source": [
    "source(\"../ref/base.R\")\n",
    "lib_eval(\"magrittr\")\n",
    "lib_eval(\"dplyr\")\n",
    "lib_eval(\"survey\")\n",
    "\n",
    "#loading resources\n",
    "hh_main <- readRDS(\"../data/rdata/hh_main.RDS\")\n",
    "deaths <- readRDS(\"../data/rdata/deaths.RDS\")\n",
    "deaths_official <- readRDS(\"../data/rdata/deaths_official.RDS\")\n",
    "weighted_pop_est <- readRDS(\"../data/rdata/pop_est.RDS\")\n",
    "adj_rates <- readRDS(\"../data/rdata/adj_rates.RDS\")\n",
    "\n",
    "#raw data\n",
    "deaths_after_hurricane <- \n",
    "  deaths %>% \n",
    "  subset(as.numeric(died_month) >= 10 | \n",
    "           (died_month == 9 & died_b_p_hurricane == 2)) %>%\n",
    "  nrow\n",
    "\n",
    "deaths_before_hurricane <-\n",
    "  deaths %>% \n",
    "  subset(as.numeric(died_month) <= 8 | \n",
    "           (died_month == 9 & died_b_p_hurricane == 1)) %>%\n",
    "  nrow\n",
    "\n",
    "\n",
    "total_pop <- sum(hh_main$hh_size)\n",
    "\n",
    "adj_pop <- (total_pop-deaths_before_hurricane) * (102/365)\n",
    "\n",
    "rate <- deaths_after_hurricane / adj_pop\n",
    "\n",
    "se <- sqrt(deaths_after_hurricane)/adj_pop\n",
    "\n",
    "ll <- rate - 1.96*se\n",
    "\n",
    "ul <- rate + 1.96*se\n",
    "\n",
    "#to cacluate excess deaths from rate \n",
    "pop_in_2016 <- 3406520\n",
    "adj_pop_2016 <- pop_in_2016*(102/365)\n",
    "deaths_in_2016 <- deaths_official %>% \n",
    "  subset(Year == 2016) %>%\n",
    "  dplyr::select(Sep,Oct,Nov,Dec) %>%\n",
    "  mutate(Sep = Sep*(1/3)) %>% sum\n",
    "deaths_after_hurricane_2016 <- deaths_in_2016 \n",
    "\n",
    "rate_2016 <- deaths_after_hurricane_2016/adj_pop_2016\n",
    "\n",
    "#rate difference\n",
    "diff <- rate - rate_2016\n",
    "diff_ll <- ll - rate_2016\n",
    "diff_ul <- ul - rate_2016\n",
    "\n",
    "#excess deaths calculation\n",
    "weighted_pop_est*(102/365)*diff\n",
    "weighted_pop_est*(102/365)*diff_ll\n",
    "weighted_pop_est*(102/365)*diff_ul\n",
    "\n",
    "\n",
    "#adjusted calculations\n",
    "#generated in adjust-for-missing-households.RMD\n",
    "adj_rate <- round(adj_rates$rate_after,1) / 1000\n",
    "adj_ll <- round(adj_rates$lower_after,1) / 1000\n",
    "adj_ul <- round(adj_rates$upper_after,1) / 1000\n",
    "\n",
    "#excess deaths calculation\n",
    "weighted_pop_est*(102/365)*(adj_rate-rate_2016)\n",
    "weighted_pop_est*(102/365)*(adj_ll-rate_2016)\n",
    "weighted_pop_est*(102/365)*(adj_ul-rate_2016)"
   ]
  },
  {
   "cell_type": "markdown",
   "metadata": {},
   "source": [
    "# Python traduction of Code "
   ]
  },
  {
   "cell_type": "code",
   "execution_count": 1,
   "metadata": {},
   "outputs": [
    {
     "name": "stdout",
     "output_type": "stream",
     "text": [
      "Requirement already satisfied: pandas in c:\\users\\isabelle\\anaconda3\\lib\\site-packages (0.24.2)\n",
      "Requirement already satisfied: pytz>=2011k in c:\\users\\isabelle\\anaconda3\\lib\\site-packages (from pandas) (2019.1)\n",
      "Requirement already satisfied: python-dateutil>=2.5.0 in c:\\users\\isabelle\\anaconda3\\lib\\site-packages (from pandas) (2.8.0)\n",
      "Requirement already satisfied: numpy>=1.12.0 in c:\\users\\isabelle\\anaconda3\\lib\\site-packages (from pandas) (1.16.4)\n",
      "Requirement already satisfied: six>=1.5 in c:\\users\\isabelle\\anaconda3\\lib\\site-packages (from python-dateutil>=2.5.0->pandas) (1.12.0)\n",
      "Requirement already satisfied: pyreadr in c:\\users\\isabelle\\anaconda3\\lib\\site-packages (0.2.2)\n"
     ]
    }
   ],
   "source": [
    "# Need to install \n",
    "! pip install pandas \n",
    "! pip install pyreadr"
   ]
  },
  {
   "cell_type": "markdown",
   "metadata": {},
   "source": [
    "### Imports "
   ]
  },
  {
   "cell_type": "code",
   "execution_count": 2,
   "metadata": {},
   "outputs": [],
   "source": [
    "import pandas as pd\n",
    "import pyreadr\n",
    "import math"
   ]
  },
  {
   "cell_type": "markdown",
   "metadata": {},
   "source": [
    "### Loading resources"
   ]
  },
  {
   "cell_type": "code",
   "execution_count": 3,
   "metadata": {},
   "outputs": [],
   "source": [
    "hh_main =  pyreadr.read_r(\"../data/rdata/hh_main.RDS\")\n",
    "deaths =  pyreadr.read_r(\"../data/rdata/deaths.RDS\")\n",
    "deaths_official =  pyreadr.read_r(\"../data/rdata/deaths_official.RDS\")\n",
    "weighted_pop_est = pyreadr.read_r(\"../data/rdata/pop_est.RDS\")\n",
    "adj_rates = pyreadr.read_r(\"../data/rdata/adj_rates.RDS\")\n",
    "\n",
    "hh_main = hh_main[None]\n",
    "deaths = deaths[None]\n",
    "deaths_official =  deaths_official[None]\n",
    "weighted_pop_est = weighted_pop_est[None]\n",
    "adj_rates = adj_rates[None]\n",
    "\n"
   ]
  },
  {
   "cell_type": "code",
   "execution_count": 4,
   "metadata": {},
   "outputs": [
    {
     "data": {
      "text/html": [
       "<div>\n",
       "<style scoped>\n",
       "    .dataframe tbody tr th:only-of-type {\n",
       "        vertical-align: middle;\n",
       "    }\n",
       "\n",
       "    .dataframe tbody tr th {\n",
       "        vertical-align: top;\n",
       "    }\n",
       "\n",
       "    .dataframe thead th {\n",
       "        text-align: right;\n",
       "    }\n",
       "</style>\n",
       "<table border=\"1\" class=\"dataframe\">\n",
       "  <thead>\n",
       "    <tr style=\"text-align: right;\">\n",
       "      <th></th>\n",
       "      <th>hh_id</th>\n",
       "      <th>hh_id__1</th>\n",
       "      <th>died_month</th>\n",
       "      <th>died_b_p_hurricane</th>\n",
       "      <th>cause_of_death</th>\n",
       "      <th>cause_of_death_ot</th>\n",
       "      <th>mo</th>\n",
       "      <th>age</th>\n",
       "    </tr>\n",
       "  </thead>\n",
       "  <tbody>\n",
       "    <tr>\n",
       "      <th>0</th>\n",
       "      <td>1061</td>\n",
       "      <td>4.0</td>\n",
       "      <td>12</td>\n",
       "      <td>---</td>\n",
       "      <td>0</td>\n",
       "      <td>---</td>\n",
       "      <td>12.0</td>\n",
       "      <td>81.0</td>\n",
       "    </tr>\n",
       "    <tr>\n",
       "      <th>1</th>\n",
       "      <td>1085</td>\n",
       "      <td>1.0</td>\n",
       "      <td>10</td>\n",
       "      <td>---</td>\n",
       "      <td>8</td>\n",
       "      <td>---</td>\n",
       "      <td>10.0</td>\n",
       "      <td>60.0</td>\n",
       "    </tr>\n",
       "    <tr>\n",
       "      <th>2</th>\n",
       "      <td>1387</td>\n",
       "      <td>2.0</td>\n",
       "      <td>11</td>\n",
       "      <td>---</td>\n",
       "      <td>8</td>\n",
       "      <td>---</td>\n",
       "      <td>11.0</td>\n",
       "      <td>101.0</td>\n",
       "    </tr>\n",
       "    <tr>\n",
       "      <th>3</th>\n",
       "      <td>1400</td>\n",
       "      <td>0.0</td>\n",
       "      <td>11</td>\n",
       "      <td>---</td>\n",
       "      <td>99</td>\n",
       "      <td>Infarto</td>\n",
       "      <td>11.0</td>\n",
       "      <td>54.0</td>\n",
       "    </tr>\n",
       "    <tr>\n",
       "      <th>4</th>\n",
       "      <td>1402</td>\n",
       "      <td>1.0</td>\n",
       "      <td>2</td>\n",
       "      <td>---</td>\n",
       "      <td>---</td>\n",
       "      <td>---</td>\n",
       "      <td>2.0</td>\n",
       "      <td>69.0</td>\n",
       "    </tr>\n",
       "  </tbody>\n",
       "</table>\n",
       "</div>"
      ],
      "text/plain": [
       "  hh_id  hh_id__1 died_month died_b_p_hurricane cause_of_death  \\\n",
       "0  1061       4.0         12                ---              0   \n",
       "1  1085       1.0         10                ---              8   \n",
       "2  1387       2.0         11                ---              8   \n",
       "3  1400       0.0         11                ---             99   \n",
       "4  1402       1.0          2                ---            ---   \n",
       "\n",
       "  cause_of_death_ot    mo    age  \n",
       "0               ---  12.0   81.0  \n",
       "1               ---  10.0   60.0  \n",
       "2               ---  11.0  101.0  \n",
       "3           Infarto  11.0   54.0  \n",
       "4               ---   2.0   69.0  "
      ]
     },
     "execution_count": 4,
     "metadata": {},
     "output_type": "execute_result"
    }
   ],
   "source": [
    "deaths.head()"
   ]
  },
  {
   "cell_type": "markdown",
   "metadata": {},
   "source": [
    "### Raw data"
   ]
  },
  {
   "cell_type": "code",
   "execution_count": 5,
   "metadata": {},
   "outputs": [],
   "source": [
    "deaths_after_hurricane = len(deaths.loc[deaths['died_month'].isin(['10', '11', '12']) \n",
    "                                   | (deaths['died_month'].isin(['9']) & deaths['died_b_p_hurricane'].isin(['2']))])"
   ]
  },
  {
   "cell_type": "code",
   "execution_count": 6,
   "metadata": {},
   "outputs": [],
   "source": [
    "deaths_before_hurricane = len(deaths.loc[deaths['died_month'].isin(['1', '2', '3', '4', '5', '6', '7', '8']) \n",
    "                                  | (deaths['died_month'].isin(['9']) & deaths['died_b_p_hurricane'].isin(['1']))])"
   ]
  },
  {
   "cell_type": "code",
   "execution_count": 7,
   "metadata": {},
   "outputs": [],
   "source": [
    "total_pop = sum(hh_main['hh_size'])\n",
    "\n",
    "adj_pop = (total_pop-deaths_before_hurricane) * (102/365)\n",
    "\n",
    "rate = deaths_after_hurricane / adj_pop\n",
    "\n",
    "se = math.sqrt(deaths_after_hurricane)/adj_pop\n",
    "\n",
    "ll = rate - 1.96*se\n",
    "\n",
    "ul = rate + 1.96*se\n"
   ]
  },
  {
   "cell_type": "code",
   "execution_count": 8,
   "metadata": {},
   "outputs": [
    {
     "data": {
      "text/html": [
       "<div>\n",
       "<style scoped>\n",
       "    .dataframe tbody tr th:only-of-type {\n",
       "        vertical-align: middle;\n",
       "    }\n",
       "\n",
       "    .dataframe tbody tr th {\n",
       "        vertical-align: top;\n",
       "    }\n",
       "\n",
       "    .dataframe thead th {\n",
       "        text-align: right;\n",
       "    }\n",
       "</style>\n",
       "<table border=\"1\" class=\"dataframe\">\n",
       "  <thead>\n",
       "    <tr style=\"text-align: right;\">\n",
       "      <th></th>\n",
       "      <th>Year</th>\n",
       "      <th>Jan</th>\n",
       "      <th>Feb</th>\n",
       "      <th>Mar</th>\n",
       "      <th>Apr</th>\n",
       "      <th>May</th>\n",
       "      <th>Jun</th>\n",
       "      <th>Jul</th>\n",
       "      <th>Aug</th>\n",
       "      <th>Sep</th>\n",
       "      <th>Oct</th>\n",
       "      <th>Nov</th>\n",
       "      <th>Dec</th>\n",
       "      <th>Pop</th>\n",
       "      <th>Popv17</th>\n",
       "    </tr>\n",
       "  </thead>\n",
       "  <tbody>\n",
       "    <tr>\n",
       "      <th>0</th>\n",
       "      <td>2010</td>\n",
       "      <td>2384</td>\n",
       "      <td>2218</td>\n",
       "      <td>2470</td>\n",
       "      <td>2290</td>\n",
       "      <td>2440</td>\n",
       "      <td>2405</td>\n",
       "      <td>2468</td>\n",
       "      <td>2564</td>\n",
       "      <td>2280</td>\n",
       "      <td>2468</td>\n",
       "      <td>2518</td>\n",
       "      <td>2776</td>\n",
       "      <td>3722000.0</td>\n",
       "      <td>3721525.0</td>\n",
       "    </tr>\n",
       "    <tr>\n",
       "      <th>1</th>\n",
       "      <td>2011</td>\n",
       "      <td>2714</td>\n",
       "      <td>2353</td>\n",
       "      <td>2755</td>\n",
       "      <td>2439</td>\n",
       "      <td>2472</td>\n",
       "      <td>2446</td>\n",
       "      <td>2451</td>\n",
       "      <td>2443</td>\n",
       "      <td>2364</td>\n",
       "      <td>2484</td>\n",
       "      <td>2347</td>\n",
       "      <td>2632</td>\n",
       "      <td>3679000.0</td>\n",
       "      <td>3678732.0</td>\n",
       "    </tr>\n",
       "    <tr>\n",
       "      <th>2</th>\n",
       "      <td>2012</td>\n",
       "      <td>2604</td>\n",
       "      <td>2442</td>\n",
       "      <td>2567</td>\n",
       "      <td>2480</td>\n",
       "      <td>2370</td>\n",
       "      <td>2560</td>\n",
       "      <td>2434</td>\n",
       "      <td>2467</td>\n",
       "      <td>2451</td>\n",
       "      <td>2425</td>\n",
       "      <td>2456</td>\n",
       "      <td>2579</td>\n",
       "      <td>3634000.0</td>\n",
       "      <td>3634488.0</td>\n",
       "    </tr>\n",
       "    <tr>\n",
       "      <th>3</th>\n",
       "      <td>2013</td>\n",
       "      <td>2558</td>\n",
       "      <td>2361</td>\n",
       "      <td>2693</td>\n",
       "      <td>2301</td>\n",
       "      <td>2381</td>\n",
       "      <td>2309</td>\n",
       "      <td>2462</td>\n",
       "      <td>2483</td>\n",
       "      <td>2457</td>\n",
       "      <td>2379</td>\n",
       "      <td>2254</td>\n",
       "      <td>2503</td>\n",
       "      <td>3593000.0</td>\n",
       "      <td>3593077.0</td>\n",
       "    </tr>\n",
       "    <tr>\n",
       "      <th>4</th>\n",
       "      <td>2014</td>\n",
       "      <td>2464</td>\n",
       "      <td>2191</td>\n",
       "      <td>2467</td>\n",
       "      <td>2373</td>\n",
       "      <td>2446</td>\n",
       "      <td>2371</td>\n",
       "      <td>2396</td>\n",
       "      <td>2521</td>\n",
       "      <td>2480</td>\n",
       "      <td>2866</td>\n",
       "      <td>2619</td>\n",
       "      <td>2858</td>\n",
       "      <td>3535000.0</td>\n",
       "      <td>3534874.0</td>\n",
       "    </tr>\n",
       "    <tr>\n",
       "      <th>5</th>\n",
       "      <td>2015</td>\n",
       "      <td>2711</td>\n",
       "      <td>2379</td>\n",
       "      <td>2395</td>\n",
       "      <td>2246</td>\n",
       "      <td>2322</td>\n",
       "      <td>2118</td>\n",
       "      <td>2361</td>\n",
       "      <td>2250</td>\n",
       "      <td>2235</td>\n",
       "      <td>2376</td>\n",
       "      <td>2245</td>\n",
       "      <td>2486</td>\n",
       "      <td>3473000.0</td>\n",
       "      <td>3473177.0</td>\n",
       "    </tr>\n",
       "    <tr>\n",
       "      <th>6</th>\n",
       "      <td>2016</td>\n",
       "      <td>2712</td>\n",
       "      <td>2562</td>\n",
       "      <td>2426</td>\n",
       "      <td>2225</td>\n",
       "      <td>2283</td>\n",
       "      <td>2322</td>\n",
       "      <td>2442</td>\n",
       "      <td>2405</td>\n",
       "      <td>2347</td>\n",
       "      <td>2341</td>\n",
       "      <td>2458</td>\n",
       "      <td>2817</td>\n",
       "      <td>3411307.0</td>\n",
       "      <td>3406520.0</td>\n",
       "    </tr>\n",
       "    <tr>\n",
       "      <th>7</th>\n",
       "      <td>2017</td>\n",
       "      <td>2862</td>\n",
       "      <td>2295</td>\n",
       "      <td>2469</td>\n",
       "      <td>2357</td>\n",
       "      <td>2376</td>\n",
       "      <td>2342</td>\n",
       "      <td>2342</td>\n",
       "      <td>2306</td>\n",
       "      <td>2887</td>\n",
       "      <td>2991</td>\n",
       "      <td>2571</td>\n",
       "      <td>2168</td>\n",
       "      <td>3337177.0</td>\n",
       "      <td>3337177.0</td>\n",
       "    </tr>\n",
       "  </tbody>\n",
       "</table>\n",
       "</div>"
      ],
      "text/plain": [
       "   Year   Jan   Feb   Mar   Apr   May   Jun   Jul   Aug   Sep   Oct   Nov  \\\n",
       "0  2010  2384  2218  2470  2290  2440  2405  2468  2564  2280  2468  2518   \n",
       "1  2011  2714  2353  2755  2439  2472  2446  2451  2443  2364  2484  2347   \n",
       "2  2012  2604  2442  2567  2480  2370  2560  2434  2467  2451  2425  2456   \n",
       "3  2013  2558  2361  2693  2301  2381  2309  2462  2483  2457  2379  2254   \n",
       "4  2014  2464  2191  2467  2373  2446  2371  2396  2521  2480  2866  2619   \n",
       "5  2015  2711  2379  2395  2246  2322  2118  2361  2250  2235  2376  2245   \n",
       "6  2016  2712  2562  2426  2225  2283  2322  2442  2405  2347  2341  2458   \n",
       "7  2017  2862  2295  2469  2357  2376  2342  2342  2306  2887  2991  2571   \n",
       "\n",
       "    Dec        Pop     Popv17  \n",
       "0  2776  3722000.0  3721525.0  \n",
       "1  2632  3679000.0  3678732.0  \n",
       "2  2579  3634000.0  3634488.0  \n",
       "3  2503  3593000.0  3593077.0  \n",
       "4  2858  3535000.0  3534874.0  \n",
       "5  2486  3473000.0  3473177.0  \n",
       "6  2817  3411307.0  3406520.0  \n",
       "7  2168  3337177.0  3337177.0  "
      ]
     },
     "execution_count": 8,
     "metadata": {},
     "output_type": "execute_result"
    }
   ],
   "source": [
    "deaths_official"
   ]
  },
  {
   "cell_type": "markdown",
   "metadata": {},
   "source": [
    "### To cacluate excess deaths from rate "
   ]
  },
  {
   "cell_type": "code",
   "execution_count": 9,
   "metadata": {},
   "outputs": [],
   "source": [
    "pop_in_2016 = 3406520\n",
    "adj_pop_2016 = pop_in_2016*(102/365)\n",
    "\n",
    "deaths_in_2016_temp = deaths_official.loc[deaths_official['Year'].isin(['2016'])]\n",
    "deaths_in_2016_select = deaths_in_2016_temp[['Sep', 'Oct', 'Nov', 'Dec']]\n",
    "deaths_in_2016 = deaths_in_2016_select.assign(Sep = deaths_in_2016_temp['Sep'].map(lambda x: x*(1/3)))\n",
    "deaths_after_hurricane_2016 = deaths_in_2016.sum(axis = 1, skipna = True) \n",
    "rate_2016 = deaths_after_hurricane_2016/adj_pop_2016\n"
   ]
  },
  {
   "cell_type": "markdown",
   "metadata": {},
   "source": [
    "### Rate difference"
   ]
  },
  {
   "cell_type": "code",
   "execution_count": 10,
   "metadata": {},
   "outputs": [],
   "source": [
    "diff = rate - rate_2016\n",
    "diff_ll = ll - rate_2016\n",
    "diff_ul = ul - rate_2016 "
   ]
  },
  {
   "cell_type": "markdown",
   "metadata": {},
   "source": [
    "### Excess deaths calculation"
   ]
  },
  {
   "cell_type": "code",
   "execution_count": 11,
   "metadata": {},
   "outputs": [
    {
     "data": {
      "text/html": [
       "<div>\n",
       "<style scoped>\n",
       "    .dataframe tbody tr th:only-of-type {\n",
       "        vertical-align: middle;\n",
       "    }\n",
       "\n",
       "    .dataframe tbody tr th {\n",
       "        vertical-align: top;\n",
       "    }\n",
       "\n",
       "    .dataframe thead th {\n",
       "        text-align: right;\n",
       "    }\n",
       "</style>\n",
       "<table border=\"1\" class=\"dataframe\">\n",
       "  <thead>\n",
       "    <tr style=\"text-align: right;\">\n",
       "      <th></th>\n",
       "      <th>None</th>\n",
       "    </tr>\n",
       "  </thead>\n",
       "  <tbody>\n",
       "    <tr>\n",
       "      <th>0</th>\n",
       "      <td>3.030307e+06</td>\n",
       "    </tr>\n",
       "  </tbody>\n",
       "</table>\n",
       "</div>"
      ],
      "text/plain": [
       "            NaN\n",
       "0  3.030307e+06"
      ]
     },
     "execution_count": 11,
     "metadata": {},
     "output_type": "execute_result"
    }
   ],
   "source": [
    "weighted_pop_est"
   ]
  },
  {
   "cell_type": "code",
   "execution_count": 12,
   "metadata": {},
   "outputs": [
    {
     "data": {
      "text/html": [
       "<div>\n",
       "<style scoped>\n",
       "    .dataframe tbody tr th:only-of-type {\n",
       "        vertical-align: middle;\n",
       "    }\n",
       "\n",
       "    .dataframe tbody tr th {\n",
       "        vertical-align: top;\n",
       "    }\n",
       "\n",
       "    .dataframe thead th {\n",
       "        text-align: right;\n",
       "    }\n",
       "</style>\n",
       "<table border=\"1\" class=\"dataframe\">\n",
       "  <thead>\n",
       "    <tr style=\"text-align: right;\">\n",
       "      <th></th>\n",
       "      <th>None</th>\n",
       "      <th>6</th>\n",
       "    </tr>\n",
       "  </thead>\n",
       "  <tbody>\n",
       "    <tr>\n",
       "      <th>0</th>\n",
       "      <td>NaN</td>\n",
       "      <td>NaN</td>\n",
       "    </tr>\n",
       "  </tbody>\n",
       "</table>\n",
       "</div>"
      ],
      "text/plain": [
       "   NaN   6\n",
       "0  NaN NaN"
      ]
     },
     "execution_count": 12,
     "metadata": {},
     "output_type": "execute_result"
    }
   ],
   "source": [
    "weighted_pop_est*(102/365)*diff\n",
    "weighted_pop_est*(102/365)*diff_ll\n",
    "weighted_pop_est*(102/365)*diff_ul"
   ]
  },
  {
   "cell_type": "markdown",
   "metadata": {},
   "source": [
    "### Adjusted calculations\n"
   ]
  },
  {
   "cell_type": "code",
   "execution_count": 13,
   "metadata": {},
   "outputs": [],
   "source": [
    "adj_rate = round(adj_rates.rate_after,1) / 1000\n",
    "adj_ll = round(adj_rates.lower_after,1) / 1000\n",
    "adj_ul = round(adj_rates.upper_after,1) / 1000\n"
   ]
  },
  {
   "cell_type": "markdown",
   "metadata": {},
   "source": [
    "### Excess deaths calculation"
   ]
  },
  {
   "cell_type": "code",
   "execution_count": 14,
   "metadata": {},
   "outputs": [
    {
     "data": {
      "text/html": [
       "<div>\n",
       "<style scoped>\n",
       "    .dataframe tbody tr th:only-of-type {\n",
       "        vertical-align: middle;\n",
       "    }\n",
       "\n",
       "    .dataframe tbody tr th {\n",
       "        vertical-align: top;\n",
       "    }\n",
       "\n",
       "    .dataframe thead th {\n",
       "        text-align: right;\n",
       "    }\n",
       "</style>\n",
       "<table border=\"1\" class=\"dataframe\">\n",
       "  <thead>\n",
       "    <tr style=\"text-align: right;\">\n",
       "      <th></th>\n",
       "      <th>None</th>\n",
       "      <th>0</th>\n",
       "      <th>6</th>\n",
       "    </tr>\n",
       "  </thead>\n",
       "  <tbody>\n",
       "    <tr>\n",
       "      <th>0</th>\n",
       "      <td>NaN</td>\n",
       "      <td>NaN</td>\n",
       "      <td>NaN</td>\n",
       "    </tr>\n",
       "  </tbody>\n",
       "</table>\n",
       "</div>"
      ],
      "text/plain": [
       "   NaN   0   6\n",
       "0  NaN NaN NaN"
      ]
     },
     "execution_count": 14,
     "metadata": {},
     "output_type": "execute_result"
    }
   ],
   "source": [
    "weighted_pop_est*(102/365)*(adj_rate-rate_2016)\n",
    "weighted_pop_est*(102/365)*(adj_ll-rate_2016)\n",
    "weighted_pop_est*(102/365)*(adj_ul-rate_2016)"
   ]
  },
  {
   "cell_type": "code",
   "execution_count": null,
   "metadata": {},
   "outputs": [],
   "source": []
  }
 ],
 "metadata": {
  "kernelspec": {
   "display_name": "Python 3",
   "language": "python",
   "name": "python3"
  },
  "language_info": {
   "codemirror_mode": {
    "name": "ipython",
    "version": 3
   },
   "file_extension": ".py",
   "mimetype": "text/x-python",
   "name": "python",
   "nbconvert_exporter": "python",
   "pygments_lexer": "ipython3",
   "version": "3.7.3"
  }
 },
 "nbformat": 4,
 "nbformat_minor": 2
}
