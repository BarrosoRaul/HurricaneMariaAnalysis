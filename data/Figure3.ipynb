{
 "cells": [
  {
   "cell_type": "markdown",
   "metadata": {},
   "source": [
    "<h1>This notebook converts Figure 3 R script into a python script </h1>\n",
    "\n",
    "<p>Author: Gabriel A. Algarin Ballesteros</p>"
   ]
  },
  {
   "cell_type": "markdown",
   "metadata": {},
   "source": [
    "<h2>Imported libraries and packages </h2>"
   ]
  },
  {
   "cell_type": "code",
   "execution_count": 22,
   "metadata": {
    "scrolled": true
   },
   "outputs": [
    {
     "data": {
      "image/png": "[encoded data removed]",
      "text/plain": [
       "<Figure size 432x288 with 4 Axes>"
      ]
     },
     "metadata": {
      "needs_background": "light"
     },
     "output_type": "display_data"
    }
   ],
   "source": [
    "#imports\n",
    "import matplotlib.pyplot as plt\n",
    "#from plotnine import *\n",
    "import pandas as pd\n",
    "import pyreadr\n",
    "from dplython import (DplyFrame, X, diamonds, select, sift,\n",
    "  sample_n, sample_frac, head, arrange, mutate, group_by,\n",
    "  summarize, DelayFunction)\n",
    "\n",
    "##This loads the data, I did it by myself Gabriel Algarin\n",
    "ACS2016 = pyreadr.read_r('data/rdata/ACS2016.Rdata')\n",
    "individuals = pyreadr.read_r('data/rdata/ind_hh.RDS')\n",
    "left_df1 = pyreadr.read_r('data/rdata/left_df.RDS')\n",
    "where_df = pyreadr.read_r('data/rdata/where_df.RDS')\n",
    "hh_main1 = pd.read_csv('data/hh.main1.csv')\n",
    "\n",
    "## Merge individuals with HH strataI did it by myself Gabriel Algarin\n",
    "##Convert HH_main into integers so that matplotlit can group by strata column I did it by myself Gabriel Algarin\n",
    "hh_main1['strata'] = hh_main1['strata'].astype(int)\n",
    "hh_main1['water'] = hh_main1['water'].astype(int)\n",
    "hh_main1[\"cellular\"] = hh_main1[\"cellular\"].astype(int)\n",
    "hh_main1[\"electricity\"] = hh_main1[\"electricity\"].astype(int)\n",
    "#resources_sub_df = resources_df.loc[:,'strata','water.sept', 'water.oct', 'water.nov', 'water.dec','electricity.sept', 'electricity.oct', 'electricity.nov', 'electricity.dec','cell.sept', 'cell.oct', 'cell.nov', 'cell.dec']\n",
    "## Groupby strata\n",
    "#grouped_resources_df = resources_df.groupby('strata').size()\n",
    "\n",
    "\n",
    "## Creating the First Figure 3a I did it by myself Gabriel Algarin\n",
    "res_df_long = pd.melt(resources_df, id_vars='strata', var_name=valuecol, value_name=valuecol)\n",
    "\n",
    "hh_main1.boxplot(column=[\"water\", \"cellular\", \"electricity\"], by='strata')\n",
    "plt.suptitle('') # takes of the title because with a title it overshadows the plots. I did it by myself Gabriel Algarin\n",
    "plt.show()"
   ]
  },
  {
   "cell_type": "code",
   "execution_count": null,
   "metadata": {},
   "outputs": [],
   "source": [
    "##3b I did it by myself Gabriel Algarin\n",
    "households = pyreadr.read_r('data/rdata/hh_main.RDS')\n",
    "individuals = pyreadr.read_r('data/rdata/individuals.RDS')\n",
    "deaths = pyreadr.read_r('data/rdata/deaths.RDS')\n",
    "left = pyreadr.read_r('data/rdata/left_df.RDS')\n",
    "\n",
    "#analysis of medical access: at least one day without care I did it by myself Gabriel Algarin\n",
    "categories = [\"Unable to get medicine\", \"Unable to use respiration equipment\", \"Roads damaged\", \"Facility closed\", \n",
    "\"Doctors unavailable\", \"Unable to afford care\", \"Transport issues\", \"No 911 service\", \"Unable to have dialysis\"]"
   ]
  }
 ],
 "metadata": {
  "kernelspec": {
   "display_name": "Python 3",
   "language": "python",
   "name": "python3"
  },
  "language_info": {
   "codemirror_mode": {
    "name": "ipython",
    "version": 3
   },
   "file_extension": ".py",
   "mimetype": "text/x-python",
   "name": "python",
   "nbconvert_exporter": "python",
   "pygments_lexer": "ipython3",
   "version": "3.7.3"
  }
 },
 "nbformat": 4,
 "nbformat_minor": 2
}
