{
 "cells": [
  {
   "cell_type": "code",
   "execution_count": null,
   "metadata": {},
   "outputs": [],
   "source": [
    "import sys\n",
    "!{sys.executable} -m pip install pyreadr"
   ]
  },
  {
   "cell_type": "code",
   "execution_count": 29,
   "metadata": {},
   "outputs": [],
   "source": [
    "import pyreadr\n",
    "import pandas as pd\n",
    "import numpy as np\n",
    "from scipy import stats"
   ]
  },
  {
   "cell_type": "code",
   "execution_count": 2,
   "metadata": {},
   "outputs": [
    {
     "name": "stdout",
     "output_type": "stream",
     "text": [
      "odict_keys([None])\n"
     ]
    }
   ],
   "source": [
    "household = pyreadr.read_r(\"~/pr_mort_official/data/rdata/hh_main.RDS\")\n",
    "print(household.keys())"
   ]
  },
  {
   "cell_type": "code",
   "execution_count": 3,
   "metadata": {},
   "outputs": [
    {
     "name": "stdout",
     "output_type": "stream",
     "text": [
      "     hh_id   id house_status consent  hh_size access_med.no_911  \\\n",
      "0       10  575          ---       1      3.0                99   \n",
      "1      100  630          ---       1      3.0                99   \n",
      "2     1000  717            1       1      3.0                99   \n",
      "3     1001  856            1       1      2.0                99   \n",
      "4     1002  475            1       1      3.0                99   \n",
      "...    ...  ...          ...     ...      ...               ...   \n",
      "3294   994  856            1       1      3.0                99   \n",
      "3295   996  491            1       1      1.0                99   \n",
      "3296   997  856            1       1      4.0                 0   \n",
      "3297   998  475            1       1      1.0                99   \n",
      "3298   999  475            1       1      4.0                99   \n",
      "\n",
      "     access_med.no_transport access_med.roads_damaged  \\\n",
      "0                         99                       99   \n",
      "1                         99                       99   \n",
      "2                         99                       99   \n",
      "3                         99                       99   \n",
      "4                         99                       99   \n",
      "...                      ...                      ...   \n",
      "3294                      99                       99   \n",
      "3295                      99                       99   \n",
      "3296                       0                        0   \n",
      "3297                      99                       99   \n",
      "3298                      99                       99   \n",
      "\n",
      "     access_med.facility_closed access_med.no_doctors  ... cell.sept cell.oct  \\\n",
      "0                            99                    99  ...         2        4   \n",
      "1                            99                    99  ...         2        4   \n",
      "2                            99                    99  ...         3        4   \n",
      "3                            99                    99  ...         2        4   \n",
      "4                             1                     3  ...         2        2   \n",
      "...                         ...                   ...  ...       ...      ...   \n",
      "3294                         99                    99  ...         2        4   \n",
      "3295                          1                     1  ...         3        4   \n",
      "3296                          0                    99  ...         2        3   \n",
      "3297                         99                    99  ...       ---      ---   \n",
      "3298                         99                    99  ...         2        4   \n",
      "\n",
      "     cell.nov cell.dec mort_neighbor left_neighbor neighbors_num strata flag  \\\n",
      "0           4        0            99           ---             3    1.0  0.0   \n",
      "1           2        0            99           ---             3    5.0  0.0   \n",
      "2           4        3            99             6             2    2.0  1.0   \n",
      "3           4        3             0             0             4    6.0  1.0   \n",
      "4           0        0             0             3             3    4.0  1.0   \n",
      "...       ...      ...           ...           ...           ...    ...  ...   \n",
      "3294        3        0             0             0             2    6.0  1.0   \n",
      "3295        4        3             5             0             2    2.0  1.0   \n",
      "3296        0        0             1             4             1    6.0  1.0   \n",
      "3297      ---      ---             0             2             1    4.0  1.0   \n",
      "3298        1        0             2             2             3    4.0  1.0   \n",
      "\n",
      "     mun_id  \n",
      "0       3.0  \n",
      "1      15.0  \n",
      "2      22.0  \n",
      "3      11.0  \n",
      "4      21.0  \n",
      "...     ...  \n",
      "3294   11.0  \n",
      "3295   22.0  \n",
      "3296   11.0  \n",
      "3297   21.0  \n",
      "3298   21.0  \n",
      "\n",
      "[3299 rows x 46 columns]\n"
     ]
    }
   ],
   "source": [
    "df1 = household[None]\n",
    "print(df1)"
   ]
  },
  {
   "cell_type": "code",
   "execution_count": 4,
   "metadata": {},
   "outputs": [
    {
     "name": "stdout",
     "output_type": "stream",
     "text": [
      "odict_keys([None])\n"
     ]
    }
   ],
   "source": [
    "individuals = pyreadr.read_r(\"~/pr_mort_official/data/rdata/individuals.RDS\")\n",
    "print(individuals.keys())"
   ]
  },
  {
   "cell_type": "code",
   "execution_count": 5,
   "metadata": {},
   "outputs": [
    {
     "name": "stdout",
     "output_type": "stream",
     "text": [
      "     hh_id  hh_id__1 gender   age lived_movedin movedin_month  \\\n",
      "0       10       0.0      1  71.0             1           ---   \n",
      "1       10       1.0      0  50.0             1           ---   \n",
      "2       10       2.0      1  31.0             1           ---   \n",
      "3      100       0.0      0  68.0             1           ---   \n",
      "4      100       1.0      1  37.0             1           ---   \n",
      "...    ...       ...    ...   ...           ...           ...   \n",
      "9517   998       0.0      1  64.0             1           ---   \n",
      "9518   999       0.0      0  47.0             1           ---   \n",
      "9519   999       1.0      1  54.0             1           ---   \n",
      "9520   999       2.0      1  12.0             1           ---   \n",
      "9521   999       3.0      1  14.0             1           ---   \n",
      "\n",
      "     movedin_bc_hurricane status missing_month left_month left_b_p_hurricane  \\\n",
      "0                     ---      1           ---        ---                ---   \n",
      "1                     ---      1           ---        ---                ---   \n",
      "2                     ---      1           ---        ---                ---   \n",
      "3                     ---      1           ---        ---                ---   \n",
      "4                     ---      1           ---        ---                ---   \n",
      "...                   ...    ...           ...        ...                ...   \n",
      "9517                  ---      1           ---        ---                ---   \n",
      "9518                  ---      1           ---        ---                ---   \n",
      "9519                  ---      1           ---        ---                ---   \n",
      "9520                  ---      1           ---        ---                ---   \n",
      "9521                  ---      1           ---        ---                ---   \n",
      "\n",
      "     left_bc_hurricane left_first left_final hh_mem_num  \n",
      "0                  ---        ---        ---          1  \n",
      "1                  ---        ---        ---          2  \n",
      "2                  ---        ---        ---          3  \n",
      "3                  ---        ---        ---          1  \n",
      "4                  ---        ---        ---          2  \n",
      "...                ...        ...        ...        ...  \n",
      "9517               ---        ---        ---          1  \n",
      "9518               ---        ---        ---          1  \n",
      "9519               ---        ---        ---          2  \n",
      "9520               ---        ---        ---          3  \n",
      "9521               ---        ---        ---          4  \n",
      "\n",
      "[9522 rows x 15 columns]\n"
     ]
    }
   ],
   "source": [
    "df2 = individuals[None]\n",
    "print(df2)"
   ]
  },
  {
   "cell_type": "code",
   "execution_count": 6,
   "metadata": {},
   "outputs": [
    {
     "name": "stdout",
     "output_type": "stream",
     "text": [
      "odict_keys([None])\n"
     ]
    }
   ],
   "source": [
    "death = pyreadr.read_r(\"~/pr_mort_official/data/rdata/deaths.RDS\")\n",
    "print(death.keys())"
   ]
  },
  {
   "cell_type": "code",
   "execution_count": 7,
   "metadata": {},
   "outputs": [
    {
     "name": "stdout",
     "output_type": "stream",
     "text": [
      "   hh_id  hh_id__1 died_month died_b_p_hurricane cause_of_death  \\\n",
      "0   1061       4.0         12                ---              0   \n",
      "1   1085       1.0         10                ---              8   \n",
      "2   1387       2.0         11                ---              8   \n",
      "3   1400       0.0         11                ---             99   \n",
      "4   1402       1.0          2                ---            ---   \n",
      "5   1427       4.0         12                ---              4   \n",
      "6   1521       1.0          4                ---            ---   \n",
      "7   1585       1.0         11                ---             99   \n",
      "8    160       2.0         10                ---             99   \n",
      "9   1678       2.0         10                ---              8   \n",
      "10  1728       2.0          9                  1            ---   \n",
      "11  1757       1.0         12                ---              0   \n",
      "12  1776       1.0         11                ---              8   \n",
      "13   182       1.0         12                ---              8   \n",
      "14  1873       1.0         12                ---              0   \n",
      "15  1928       1.0          3                ---            ---   \n",
      "16  1943       1.0         10                ---              0   \n",
      "17   197       2.0          8                ---            ---   \n",
      "18  2204       1.0         12                ---              8   \n",
      "19  2302       1.0         12                ---              0   \n",
      "20  2365       0.0          7                ---            ---   \n",
      "21    24       1.0          9                  1            ---   \n",
      "22  2468       0.0         10                ---             99   \n",
      "23   248       0.0          9                  2              8   \n",
      "24   266       2.0         12                ---              0   \n",
      "25  2807       0.0          7                ---            ---   \n",
      "26  2874       1.0         11                ---              0   \n",
      "27  3132       2.0         12                ---              0   \n",
      "28  3152       2.0         11                ---              8   \n",
      "29  3161       0.0          2                ---            ---   \n",
      "30  3258       1.0         11                ---             99   \n",
      "31  3293       2.0         10                ---              0   \n",
      "32  3352       0.0          1                ---            ---   \n",
      "33   343       1.0         11                ---              0   \n",
      "34  3435       0.0          9                  2              9   \n",
      "35  3614       0.0         11                ---             10   \n",
      "36   367       1.0         12                ---              9   \n",
      "37   368       1.0         12                ---              8   \n",
      "38   371       3.0          9                  2             99   \n",
      "39   525       1.0          1                ---            ---   \n",
      "40   597       0.0         11                ---             99   \n",
      "41     6       1.0          8                ---            ---   \n",
      "42   622       1.0          4                ---            ---   \n",
      "43   634       2.0          9                  2             99   \n",
      "44   658       0.0          5                ---            ---   \n",
      "45   709       2.0         10                ---             99   \n",
      "46   765       1.0         11                ---              0   \n",
      "47   805       3.0         10                ---              0   \n",
      "48   807       1.0          6                ---            ---   \n",
      "49   827       1.0         11                ---              8   \n",
      "50   864       2.0          9                  2              8   \n",
      "51   889       2.0         12                ---              9   \n",
      "52   919       5.0          4                ---            ---   \n",
      "53   929       2.0          1                ---            ---   \n",
      "54   929       3.0          1                ---            ---   \n",
      "55   981       4.0         10                ---              8   \n",
      "\n",
      "                                    cause_of_death_ot    mo    age  \n",
      "0                                                 ---  12.0   81.0  \n",
      "1                                                 ---  10.0   60.0  \n",
      "2                                                 ---  11.0  101.0  \n",
      "3                                             Infarto  11.0   54.0  \n",
      "4                                                 ---   2.0   69.0  \n",
      "5                                                 ---  12.0   90.0  \n",
      "6                                                 ---   4.0   75.0  \n",
      "7                                     cáncer terminal  11.0   81.0  \n",
      "8                                              cancer  10.0   56.0  \n",
      "9                                                 ---  10.0   74.0  \n",
      "10                                                ---   9.1   90.0  \n",
      "11                                                ---  12.0   88.0  \n",
      "12                                                ---  11.0   75.0  \n",
      "13                                                ---  12.0   62.0  \n",
      "14                                                ---  12.0   47.0  \n",
      "15                                                ---   3.0   78.0  \n",
      "16                                                ---  10.0   55.0  \n",
      "17                                                ---   8.0   87.0  \n",
      "18                                                ---  12.0   66.0  \n",
      "19                                                ---  12.0   69.0  \n",
      "20                                                ---   7.0   81.0  \n",
      "21                                                ---   9.1   66.0  \n",
      "22                                      leptospirosis  10.0   62.0  \n",
      "23                                                ---   9.2   68.0  \n",
      "24                                                ---  12.0   73.0  \n",
      "25                                                ---   7.0   75.0  \n",
      "26                                                ---  11.0   82.0  \n",
      "27                                                ---  12.0   80.0  \n",
      "28                                                ---  11.0   79.0  \n",
      "29                                                ---   2.0   87.0  \n",
      "30                                    murió de cancer  11.0   60.0  \n",
      "31                                                ---  10.0   87.0  \n",
      "32                                                ---   1.0   69.0  \n",
      "33                                                ---  11.0   86.0  \n",
      "34                                                ---   9.2   91.0  \n",
      "35                                                ---  11.0   39.0  \n",
      "36                                                ---  12.0   58.0  \n",
      "37                                                ---  12.0   72.0  \n",
      "38                                             cáncer   9.2   77.0  \n",
      "39                                                ---   1.0   83.0  \n",
      "40                           problemas de los riñones  11.0   88.0  \n",
      "41                                                ---   8.0   81.0  \n",
      "42                                                ---   4.0   95.0  \n",
      "43  Complicaciones de úlceras y condiciones de sal...   9.2   87.0  \n",
      "44                                                ---   5.0   92.0  \n",
      "45  complicaciones de salud de paciente en estado ...  10.0   89.0  \n",
      "46                                                ---  11.0   74.0  \n",
      "47                                                ---  10.0   70.0  \n",
      "48                                                ---   6.0   81.0  \n",
      "49                                                ---  11.0   91.0  \n",
      "50                                                ---   9.2   54.0  \n",
      "51                                                ---  12.0   58.0  \n",
      "52                                                ---   4.0   73.0  \n",
      "53                                                ---   1.0   53.0  \n",
      "54                                                ---   1.0   48.0  \n",
      "55                                                ---  10.0   82.0  \n"
     ]
    }
   ],
   "source": [
    "df3 = death[None]\n",
    "print(df3)"
   ]
  },
  {
   "cell_type": "code",
   "execution_count": 8,
   "metadata": {},
   "outputs": [
    {
     "name": "stdout",
     "output_type": "stream",
     "text": [
      "odict_keys([None])\n"
     ]
    }
   ],
   "source": [
    "left = pyreadr.read_r(\"~/pr_mort_official/data/rdata/left_df.RDS\")\n",
    "print(left.keys())"
   ]
  },
  {
   "cell_type": "code",
   "execution_count": 9,
   "metadata": {},
   "outputs": [
    {
     "name": "stdout",
     "output_type": "stream",
     "text": [
      "    left  age_cat  count      prop                                 left_cat\n",
      "0    0.0   [0,10)    666  0.074074          Still in household/Died in 2017\n",
      "1    0.0  [10,20)    879  0.097764          Still in household/Died in 2017\n",
      "2    0.0  [20,30)   1058  0.117673          Still in household/Died in 2017\n",
      "3    0.0  [30,40)    901  0.100211          Still in household/Died in 2017\n",
      "4    0.0  [40,50)    962  0.106996          Still in household/Died in 2017\n",
      "5    0.0  [50,60)   1352  0.150373          Still in household/Died in 2017\n",
      "6    0.0  [60,70)   1471  0.163608          Still in household/Died in 2017\n",
      "7    0.0  [70,80)   1112  0.123679          Still in household/Died in 2017\n",
      "8    0.0      80+    590  0.065621          Still in household/Died in 2017\n",
      "9    1.0   [0,10)     84  0.158192  Left in 2017 and did not return/Missing\n",
      "10   1.0  [10,20)     61  0.114878  Left in 2017 and did not return/Missing\n",
      "11   1.0  [20,30)    169  0.318267  Left in 2017 and did not return/Missing\n",
      "12   1.0  [30,40)     68  0.128060  Left in 2017 and did not return/Missing\n",
      "13   1.0  [40,50)     47  0.088512  Left in 2017 and did not return/Missing\n",
      "14   1.0  [50,60)     48  0.090395  Left in 2017 and did not return/Missing\n",
      "15   1.0  [60,70)     20  0.037665  Left in 2017 and did not return/Missing\n",
      "16   1.0  [70,80)     17  0.032015  Left in 2017 and did not return/Missing\n",
      "17   1.0      80+     17  0.032015  Left in 2017 and did not return/Missing\n"
     ]
    }
   ],
   "source": [
    "df4 = left[None]\n",
    "print(df4)"
   ]
  },
  {
   "cell_type": "code",
   "execution_count": 10,
   "metadata": {},
   "outputs": [
    {
     "name": "stdout",
     "output_type": "stream",
     "text": [
      "odict_keys([None])\n"
     ]
    }
   ],
   "source": [
    "utilities = pyreadr.read_r(\"~/pr_mort_official/data/rdata/resources_df.RDS\")\n",
    "print(utilities.keys())"
   ]
  },
  {
   "cell_type": "code",
   "execution_count": 11,
   "metadata": {},
   "outputs": [
    {
     "name": "stdout",
     "output_type": "stream",
     "text": [
      "    strata              resource     values         sd  length  \\\n",
      "0      1.0  electricity_tot_mean  61.851312  34.974904   343.0   \n",
      "1      2.0  electricity_tot_mean  80.451852  31.910546   405.0   \n",
      "2      3.0  electricity_tot_mean  71.737981  34.289639   416.0   \n",
      "3      4.0  electricity_tot_mean  77.916468  30.995835   419.0   \n",
      "4      5.0  electricity_tot_mean  86.317073  26.289938   410.0   \n",
      "5      6.0  electricity_tot_mean  78.962719  27.821107   456.0   \n",
      "6      7.0  electricity_tot_mean  87.070352  24.632719   398.0   \n",
      "7      8.0  electricity_tot_mean  91.042035  26.043721   452.0   \n",
      "8      1.0        water_tot_mean  24.411079  30.528533   343.0   \n",
      "9      2.0        water_tot_mean  26.864198  29.720127   405.0   \n",
      "10     3.0        water_tot_mean  33.353365  33.259442   416.0   \n",
      "11     4.0        water_tot_mean  37.747017  32.808754   419.0   \n",
      "12     5.0        water_tot_mean  38.324390  34.263179   410.0   \n",
      "13     6.0        water_tot_mean  39.697368  36.066247   456.0   \n",
      "14     7.0        water_tot_mean  45.464824  37.322241   398.0   \n",
      "15     8.0        water_tot_mean  48.252212  36.342277   452.0   \n",
      "16     1.0         cell_tot_mean  54.075802  38.180781   343.0   \n",
      "17     2.0         cell_tot_mean  58.624691  33.841760   405.0   \n",
      "18     3.0         cell_tot_mean  56.740385  36.400581   416.0   \n",
      "19     4.0         cell_tot_mean  62.121718  35.792624   419.0   \n",
      "20     5.0         cell_tot_mean  67.443902  33.377196   410.0   \n",
      "21     6.0         cell_tot_mean  63.010965  33.375221   456.0   \n",
      "22     7.0         cell_tot_mean  75.040201  32.794043   398.0   \n",
      "23     8.0         cell_tot_mean  69.690265  33.067647   452.0   \n",
      "\n",
      "         resource_cat  \n",
      "0         Electricity  \n",
      "1         Electricity  \n",
      "2         Electricity  \n",
      "3         Electricity  \n",
      "4         Electricity  \n",
      "5         Electricity  \n",
      "6         Electricity  \n",
      "7         Electricity  \n",
      "8               Water  \n",
      "9               Water  \n",
      "10              Water  \n",
      "11              Water  \n",
      "12              Water  \n",
      "13              Water  \n",
      "14              Water  \n",
      "15              Water  \n",
      "16  Cellular Coverage  \n",
      "17  Cellular Coverage  \n",
      "18  Cellular Coverage  \n",
      "19  Cellular Coverage  \n",
      "20  Cellular Coverage  \n",
      "21  Cellular Coverage  \n",
      "22  Cellular Coverage  \n",
      "23  Cellular Coverage  \n"
     ]
    }
   ],
   "source": [
    "df5 = utilities[None]\n",
    "print(df5)"
   ]
  },
  {
   "cell_type": "code",
   "execution_count": 12,
   "metadata": {},
   "outputs": [
    {
     "name": "stdout",
     "output_type": "stream",
     "text": [
      "                                                                                                                                                                                                                                                                   hh_id  \\\n",
      "access_med.no_911 access_med.no_transport access_med.roads_damaged access_med.facility_closed access_med.no_doctors access_med.no_dialysis access_med.no_resp_mach access_med.no_meds access_med.couldnt_afford access_med.ot_reasons                                      \n",
      "0                 0                       0                        0                          0                     0                      0                       0                  0                         NA                                                    92   \n",
      "                                                                                                                    99                     0                       0                  0                         NA                                                   646   \n",
      "                                                                                                                                           4                       0                  0                         NA                                                  1885   \n",
      "                                                                                                                                           5                       0                  0                         NA                                                   167   \n",
      "                                                                                                                                                                   99                 99                        NA                                                   182   \n",
      "...                                                                                                                                                                                                                                                                  ...   \n",
      "99                99                      99                       99                         99                    99                     99                      99                 99                        NA                                                   998   \n",
      "                                                                                                                                                                                                                NA                                                   999   \n",
      "                                                                                                                                                                                                                Obtuvo bacteria en su pierna debido a las aguas...   459   \n",
      "                                                                                                                                                                                                                Problemas para mantener el medicamento               573   \n",
      "                                                                                                                                                                                                                went to Florida during the hurricane and return...   861   \n",
      "\n",
      "                                                                                                                                                                                                                                                                     id  \\\n",
      "access_med.no_911 access_med.no_transport access_med.roads_damaged access_med.facility_closed access_med.no_doctors access_med.no_dialysis access_med.no_resp_mach access_med.no_meds access_med.couldnt_afford access_med.ot_reasons                                     \n",
      "0                 0                       0                        0                          0                     0                      0                       0                  0                         NA                                                  100   \n",
      "                                                                                                                    99                     0                       0                  0                         NA                                                  495   \n",
      "                                                                                                                                           4                       0                  0                         NA                                                  110   \n",
      "                                                                                                                                           5                       0                  0                         NA                                                  805   \n",
      "                                                                                                                                                                   99                 99                        NA                                                  365   \n",
      "...                                                                                                                                                                                                                                                                 ...   \n",
      "99                99                      99                       99                         99                    99                     99                      99                 99                        NA                                                  475   \n",
      "                                                                                                                                                                                                                NA                                                  475   \n",
      "                                                                                                                                                                                                                Obtuvo bacteria en su pierna debido a las aguas...  630   \n",
      "                                                                                                                                                                                                                Problemas para mantener el medicamento              289   \n",
      "                                                                                                                                                                                                                went to Florida during the hurricane and return...  630   \n",
      "\n",
      "                                                                                                                                                                                                                                                                   house_status  \\\n",
      "access_med.no_911 access_med.no_transport access_med.roads_damaged access_med.facility_closed access_med.no_doctors access_med.no_dialysis access_med.no_resp_mach access_med.no_meds access_med.couldnt_afford access_med.ot_reasons                                             \n",
      "0                 0                       0                        0                          0                     0                      0                       0                  0                         NA                                                          ---   \n",
      "                                                                                                                    99                     0                       0                  0                         NA                                                          ---   \n",
      "                                                                                                                                           4                       0                  0                         NA                                                          ---   \n",
      "                                                                                                                                           5                       0                  0                         NA                                                          ---   \n",
      "                                                                                                                                                                   99                 99                        NA                                                          ---   \n",
      "...                                                                                                                                                                                                                                                                         ...   \n",
      "99                99                      99                       99                         99                    99                     99                      99                 99                        NA                                                            1   \n",
      "                                                                                                                                                                                                                NA                                                            1   \n",
      "                                                                                                                                                                                                                Obtuvo bacteria en su pierna debido a las aguas...          ---   \n",
      "                                                                                                                                                                                                                Problemas para mantener el medicamento                      ---   \n",
      "                                                                                                                                                                                                                went to Florida during the hurricane and return...          ---   \n",
      "\n",
      "                                                                                                                                                                                                                                                                   consent  \\\n",
      "access_med.no_911 access_med.no_transport access_med.roads_damaged access_med.facility_closed access_med.no_doctors access_med.no_dialysis access_med.no_resp_mach access_med.no_meds access_med.couldnt_afford access_med.ot_reasons                                        \n",
      "0                 0                       0                        0                          0                     0                      0                       0                  0                         NA                                                       1   \n",
      "                                                                                                                    99                     0                       0                  0                         NA                                                       1   \n",
      "                                                                                                                                           4                       0                  0                         NA                                                       1   \n",
      "                                                                                                                                           5                       0                  0                         NA                                                       1   \n",
      "                                                                                                                                                                   99                 99                        NA                                                       1   \n",
      "...                                                                                                                                                                                                                                                                    ...   \n",
      "99                99                      99                       99                         99                    99                     99                      99                 99                        NA                                                       1   \n",
      "                                                                                                                                                                                                                NA                                                       1   \n",
      "                                                                                                                                                                                                                Obtuvo bacteria en su pierna debido a las aguas...       1   \n",
      "                                                                                                                                                                                                                Problemas para mantener el medicamento                   1   \n",
      "                                                                                                                                                                                                                went to Florida during the hurricane and return...       1   \n",
      "\n",
      "                                                                                                                                                                                                                                                                    hh_size  \\\n",
      "access_med.no_911 access_med.no_transport access_med.roads_damaged access_med.facility_closed access_med.no_doctors access_med.no_dialysis access_med.no_resp_mach access_med.no_meds access_med.couldnt_afford access_med.ot_reasons                                         \n",
      "0                 0                       0                        0                          0                     0                      0                       0                  0                         NA                                                      1.0   \n",
      "                                                                                                                    99                     0                       0                  0                         NA                                                      2.0   \n",
      "                                                                                                                                           4                       0                  0                         NA                                                      3.0   \n",
      "                                                                                                                                           5                       0                  0                         NA                                                      3.0   \n",
      "                                                                                                                                                                   99                 99                        NA                                                      4.0   \n",
      "...                                                                                                                                                                                                                                                                     ...   \n",
      "99                99                      99                       99                         99                    99                     99                      99                 99                        NA                                                      1.0   \n",
      "                                                                                                                                                                                                                NA                                                      4.0   \n",
      "                                                                                                                                                                                                                Obtuvo bacteria en su pierna debido a las aguas...      1.0   \n",
      "                                                                                                                                                                                                                Problemas para mantener el medicamento                  4.0   \n",
      "                                                                                                                                                                                                                went to Florida during the hurricane and return...      2.0   \n",
      "\n",
      "                                                                                                                                                                                                                                                                   access_med.access_other  \\\n",
      "access_med.no_911 access_med.no_transport access_med.roads_damaged access_med.facility_closed access_med.no_doctors access_med.no_dialysis access_med.no_resp_mach access_med.no_meds access_med.couldnt_afford access_med.ot_reasons                                                        \n",
      "0                 0                       0                        0                          0                     0                      0                       0                  0                         NA                                                                       1   \n",
      "                                                                                                                    99                     0                       0                  0                         NA                                                                       0   \n",
      "                                                                                                                                           4                       0                  0                         NA                                                                       0   \n",
      "                                                                                                                                           5                       0                  0                         NA                                                                       0   \n",
      "                                                                                                                                                                   99                 99                        NA                                                                       1   \n",
      "...                                                                                                                                                                                                                                                                                    ...   \n",
      "99                99                      99                       99                         99                    99                     99                      99                 99                        NA                                                                       0   \n",
      "                                                                                                                                                                                                                NA                                                                       0   \n",
      "                                                                                                                                                                                                                Obtuvo bacteria en su pierna debido a las aguas...                       0   \n",
      "                                                                                                                                                                                                                Problemas para mantener el medicamento                                   0   \n",
      "                                                                                                                                                                                                                went to Florida during the hurricane and return...                       0   \n",
      "\n",
      "                                                                                                                                                                                                                                                                   water.water_short_b  \\\n",
      "access_med.no_911 access_med.no_transport access_med.roads_damaged access_med.facility_closed access_med.no_doctors access_med.no_dialysis access_med.no_resp_mach access_med.no_meds access_med.couldnt_afford access_med.ot_reasons                                                    \n",
      "0                 0                       0                        0                          0                     0                      0                       0                  0                         NA                                                                   3   \n",
      "                                                                                                                    99                     0                       0                  0                         NA                                                                   0   \n",
      "                                                                                                                                           4                       0                  0                         NA                                                                   3   \n",
      "                                                                                                                                           5                       0                  0                         NA                                                                   2   \n",
      "                                                                                                                                                                   99                 99                        NA                                                                   0   \n",
      "...                                                                                                                                                                                                                                                                                ...   \n",
      "99                99                      99                       99                         99                    99                     99                      99                 99                        NA                                                                   3   \n",
      "                                                                                                                                                                                                                NA                                                                   0   \n",
      "                                                                                                                                                                                                                Obtuvo bacteria en su pierna debido a las aguas...                   0   \n",
      "                                                                                                                                                                                                                Problemas para mantener el medicamento                               4   \n",
      "                                                                                                                                                                                                                went to Florida during the hurricane and return...                   0   \n",
      "\n",
      "                                                                                                                                                                                                                                                                   water.lost_water  \\\n",
      "access_med.no_911 access_med.no_transport access_med.roads_damaged access_med.facility_closed access_med.no_doctors access_med.no_dialysis access_med.no_resp_mach access_med.no_meds access_med.couldnt_afford access_med.ot_reasons                                                 \n",
      "0                 0                       0                        0                          0                     0                      0                       0                  0                         NA                                                                1   \n",
      "                                                                                                                    99                     0                       0                  0                         NA                                                                1   \n",
      "                                                                                                                                           4                       0                  0                         NA                                                                1   \n",
      "                                                                                                                                           5                       0                  0                         NA                                                                1   \n",
      "                                                                                                                                                                   99                 99                        NA                                                                1   \n",
      "...                                                                                                                                                                                                                                                                             ...   \n",
      "99                99                      99                       99                         99                    99                     99                      99                 99                        NA                                                                1   \n",
      "                                                                                                                                                                                                                NA                                                                1   \n",
      "                                                                                                                                                                                                                Obtuvo bacteria en su pierna debido a las aguas...                1   \n",
      "                                                                                                                                                                                                                Problemas para mantener el medicamento                            1   \n",
      "                                                                                                                                                                                                                went to Florida during the hurricane and return...                1   \n",
      "\n",
      "                                                                                                                                                                                                                                                                   water.sept  \\\n",
      "access_med.no_911 access_med.no_transport access_med.roads_damaged access_med.facility_closed access_med.no_doctors access_med.no_dialysis access_med.no_resp_mach access_med.no_meds access_med.couldnt_afford access_med.ot_reasons                                           \n",
      "0                 0                       0                        0                          0                     0                      0                       0                  0                         NA                                                          1   \n",
      "                                                                                                                    99                     0                       0                  0                         NA                                                          3   \n",
      "                                                                                                                                           4                       0                  0                         NA                                                          2   \n",
      "                                                                                                                                           5                       0                  0                         NA                                                          3   \n",
      "                                                                                                                                                                   99                 99                        NA                                                          3   \n",
      "...                                                                                                                                                                                                                                                                       ...   \n",
      "99                99                      99                       99                         99                    99                     99                      99                 99                        NA                                                          1   \n",
      "                                                                                                                                                                                                                NA                                                          1   \n",
      "                                                                                                                                                                                                                Obtuvo bacteria en su pierna debido a las aguas...          3   \n",
      "                                                                                                                                                                                                                Problemas para mantener el medicamento                      2   \n",
      "                                                                                                                                                                                                                went to Florida during the hurricane and return...          2   \n",
      "\n",
      "                                                                                                                                                                                                                                                                   water.oct  \\\n",
      "access_med.no_911 access_med.no_transport access_med.roads_damaged access_med.facility_closed access_med.no_doctors access_med.no_dialysis access_med.no_resp_mach access_med.no_meds access_med.couldnt_afford access_med.ot_reasons                                          \n",
      "0                 0                       0                        0                          0                     0                      0                       0                  0                         NA                                                         0   \n",
      "                                                                                                                    99                     0                       0                  0                         NA                                                         2   \n",
      "                                                                                                                                           4                       0                  0                         NA                                                         4   \n",
      "                                                                                                                                           5                       0                  0                         NA                                                         3   \n",
      "                                                                                                                                                                   99                 99                        NA                                                         4   \n",
      "...                                                                                                                                                                                                                                                                      ...   \n",
      "99                99                      99                       99                         99                    99                     99                      99                 99                        NA                                                         0   \n",
      "                                                                                                                                                                                                                NA                                                         0   \n",
      "                                                                                                                                                                                                                Obtuvo bacteria en su pierna debido a las aguas...         3   \n",
      "                                                                                                                                                                                                                Problemas para mantener el medicamento                     1   \n",
      "                                                                                                                                                                                                                went to Florida during the hurricane and return...         4   \n",
      "\n",
      "                                                                                                                                                                                                                                                                    ...  \\\n",
      "access_med.no_911 access_med.no_transport access_med.roads_damaged access_med.facility_closed access_med.no_doctors access_med.no_dialysis access_med.no_resp_mach access_med.no_meds access_med.couldnt_afford access_med.ot_reasons                               ...   \n",
      "0                 0                       0                        0                          0                     0                      0                       0                  0                         NA                                                  ...   \n",
      "                                                                                                                    99                     0                       0                  0                         NA                                                  ...   \n",
      "                                                                                                                                           4                       0                  0                         NA                                                  ...   \n",
      "                                                                                                                                           5                       0                  0                         NA                                                  ...   \n",
      "                                                                                                                                                                   99                 99                        NA                                                  ...   \n",
      "...                                                                                                                                                                                                                                                                 ...   \n",
      "99                99                      99                       99                         99                    99                     99                      99                 99                        NA                                                  ...   \n",
      "                                                                                                                                                                                                                NA                                                  ...   \n",
      "                                                                                                                                                                                                                Obtuvo bacteria en su pierna debido a las aguas...  ...   \n",
      "                                                                                                                                                                                                                Problemas para mantener el medicamento              ...   \n",
      "                                                                                                                                                                                                                went to Florida during the hurricane and return...  ...   \n",
      "\n",
      "                                                                                                                                                                                                                                                                   cell.sept  \\\n",
      "access_med.no_911 access_med.no_transport access_med.roads_damaged access_med.facility_closed access_med.no_doctors access_med.no_dialysis access_med.no_resp_mach access_med.no_meds access_med.couldnt_afford access_med.ot_reasons                                          \n",
      "0                 0                       0                        0                          0                     0                      0                       0                  0                         NA                                                         2   \n",
      "                                                                                                                    99                     0                       0                  0                         NA                                                         2   \n",
      "                                                                                                                                           4                       0                  0                         NA                                                         2   \n",
      "                                                                                                                                           5                       0                  0                         NA                                                         3   \n",
      "                                                                                                                                                                   99                 99                        NA                                                         3   \n",
      "...                                                                                                                                                                                                                                                                      ...   \n",
      "99                99                      99                       99                         99                    99                     99                      99                 99                        NA                                                       ---   \n",
      "                                                                                                                                                                                                                NA                                                         2   \n",
      "                                                                                                                                                                                                                Obtuvo bacteria en su pierna debido a las aguas...       ---   \n",
      "                                                                                                                                                                                                                Problemas para mantener el medicamento                     2   \n",
      "                                                                                                                                                                                                                went to Florida during the hurricane and return...         2   \n",
      "\n",
      "                                                                                                                                                                                                                                                                   cell.oct  \\\n",
      "access_med.no_911 access_med.no_transport access_med.roads_damaged access_med.facility_closed access_med.no_doctors access_med.no_dialysis access_med.no_resp_mach access_med.no_meds access_med.couldnt_afford access_med.ot_reasons                                         \n",
      "0                 0                       0                        0                          0                     0                      0                       0                  0                         NA                                                        4   \n",
      "                                                                                                                    99                     0                       0                  0                         NA                                                        3   \n",
      "                                                                                                                                           4                       0                  0                         NA                                                        4   \n",
      "                                                                                                                                           5                       0                  0                         NA                                                        3   \n",
      "                                                                                                                                                                   99                 99                        NA                                                        4   \n",
      "...                                                                                                                                                                                                                                                                     ...   \n",
      "99                99                      99                       99                         99                    99                     99                      99                 99                        NA                                                      ---   \n",
      "                                                                                                                                                                                                                NA                                                        4   \n",
      "                                                                                                                                                                                                                Obtuvo bacteria en su pierna debido a las aguas...      ---   \n",
      "                                                                                                                                                                                                                Problemas para mantener el medicamento                    4   \n",
      "                                                                                                                                                                                                                went to Florida during the hurricane and return...        4   \n",
      "\n",
      "                                                                                                                                                                                                                                                                   cell.nov  \\\n",
      "access_med.no_911 access_med.no_transport access_med.roads_damaged access_med.facility_closed access_med.no_doctors access_med.no_dialysis access_med.no_resp_mach access_med.no_meds access_med.couldnt_afford access_med.ot_reasons                                         \n",
      "0                 0                       0                        0                          0                     0                      0                       0                  0                         NA                                                        4   \n",
      "                                                                                                                    99                     0                       0                  0                         NA                                                        0   \n",
      "                                                                                                                                           4                       0                  0                         NA                                                        4   \n",
      "                                                                                                                                           5                       0                  0                         NA                                                        3   \n",
      "                                                                                                                                                                   99                 99                        NA                                                        4   \n",
      "...                                                                                                                                                                                                                                                                     ...   \n",
      "99                99                      99                       99                         99                    99                     99                      99                 99                        NA                                                      ---   \n",
      "                                                                                                                                                                                                                NA                                                        1   \n",
      "                                                                                                                                                                                                                Obtuvo bacteria en su pierna debido a las aguas...      ---   \n",
      "                                                                                                                                                                                                                Problemas para mantener el medicamento                    4   \n",
      "                                                                                                                                                                                                                went to Florida during the hurricane and return...        4   \n",
      "\n",
      "                                                                                                                                                                                                                                                                   cell.dec  \\\n",
      "access_med.no_911 access_med.no_transport access_med.roads_damaged access_med.facility_closed access_med.no_doctors access_med.no_dialysis access_med.no_resp_mach access_med.no_meds access_med.couldnt_afford access_med.ot_reasons                                         \n",
      "0                 0                       0                        0                          0                     0                      0                       0                  0                         NA                                                        0   \n",
      "                                                                                                                    99                     0                       0                  0                         NA                                                        0   \n",
      "                                                                                                                                           4                       0                  0                         NA                                                        4   \n",
      "                                                                                                                                           5                       0                  0                         NA                                                        3   \n",
      "                                                                                                                                                                   99                 99                        NA                                                        4   \n",
      "...                                                                                                                                                                                                                                                                     ...   \n",
      "99                99                      99                       99                         99                    99                     99                      99                 99                        NA                                                      ---   \n",
      "                                                                                                                                                                                                                NA                                                        0   \n",
      "                                                                                                                                                                                                                Obtuvo bacteria en su pierna debido a las aguas...      ---   \n",
      "                                                                                                                                                                                                                Problemas para mantener el medicamento                    4   \n",
      "                                                                                                                                                                                                                went to Florida during the hurricane and return...        4   \n",
      "\n",
      "                                                                                                                                                                                                                                                                   mort_neighbor  \\\n",
      "access_med.no_911 access_med.no_transport access_med.roads_damaged access_med.facility_closed access_med.no_doctors access_med.no_dialysis access_med.no_resp_mach access_med.no_meds access_med.couldnt_afford access_med.ot_reasons                                              \n",
      "0                 0                       0                        0                          0                     0                      0                       0                  0                         NA                                                             4   \n",
      "                                                                                                                    99                     0                       0                  0                         NA                                                             0   \n",
      "                                                                                                                                           4                       0                  0                         NA                                                             3   \n",
      "                                                                                                                                           5                       0                  0                         NA                                                             1   \n",
      "                                                                                                                                                                   99                 99                        NA                                                             1   \n",
      "...                                                                                                                                                                                                                                                                          ...   \n",
      "99                99                      99                       99                         99                    99                     99                      99                 99                        NA                                                             0   \n",
      "                                                                                                                                                                                                                NA                                                             2   \n",
      "                                                                                                                                                                                                                Obtuvo bacteria en su pierna debido a las aguas...             0   \n",
      "                                                                                                                                                                                                                Problemas para mantener el medicamento                        99   \n",
      "                                                                                                                                                                                                                went to Florida during the hurricane and return...            99   \n",
      "\n",
      "                                                                                                                                                                                                                                                                   left_neighbor  \\\n",
      "access_med.no_911 access_med.no_transport access_med.roads_damaged access_med.facility_closed access_med.no_doctors access_med.no_dialysis access_med.no_resp_mach access_med.no_meds access_med.couldnt_afford access_med.ot_reasons                                              \n",
      "0                 0                       0                        0                          0                     0                      0                       0                  0                         NA                                                           ---   \n",
      "                                                                                                                    99                     0                       0                  0                         NA                                                           ---   \n",
      "                                                                                                                                           4                       0                  0                         NA                                                           ---   \n",
      "                                                                                                                                           5                       0                  0                         NA                                                           ---   \n",
      "                                                                                                                                                                   99                 99                        NA                                                           ---   \n",
      "...                                                                                                                                                                                                                                                                          ...   \n",
      "99                99                      99                       99                         99                    99                     99                      99                 99                        NA                                                             2   \n",
      "                                                                                                                                                                                                                NA                                                             2   \n",
      "                                                                                                                                                                                                                Obtuvo bacteria en su pierna debido a las aguas...           ---   \n",
      "                                                                                                                                                                                                                Problemas para mantener el medicamento                       ---   \n",
      "                                                                                                                                                                                                                went to Florida during the hurricane and return...           ---   \n",
      "\n",
      "                                                                                                                                                                                                                                                                   neighbors_num  \\\n",
      "access_med.no_911 access_med.no_transport access_med.roads_damaged access_med.facility_closed access_med.no_doctors access_med.no_dialysis access_med.no_resp_mach access_med.no_meds access_med.couldnt_afford access_med.ot_reasons                                              \n",
      "0                 0                       0                        0                          0                     0                      0                       0                  0                         NA                                                             1   \n",
      "                                                                                                                    99                     0                       0                  0                         NA                                                             2   \n",
      "                                                                                                                                           4                       0                  0                         NA                                                             3   \n",
      "                                                                                                                                           5                       0                  0                         NA                                                             4   \n",
      "                                                                                                                                                                   99                 99                        NA                                                             3   \n",
      "...                                                                                                                                                                                                                                                                          ...   \n",
      "99                99                      99                       99                         99                    99                     99                      99                 99                        NA                                                             1   \n",
      "                                                                                                                                                                                                                NA                                                             3   \n",
      "                                                                                                                                                                                                                Obtuvo bacteria en su pierna debido a las aguas...             4   \n",
      "                                                                                                                                                                                                                Problemas para mantener el medicamento                         5   \n",
      "                                                                                                                                                                                                                went to Florida during the hurricane and return...             1   \n",
      "\n",
      "                                                                                                                                                                                                                                                                   strata  \\\n",
      "access_med.no_911 access_med.no_transport access_med.roads_damaged access_med.facility_closed access_med.no_doctors access_med.no_dialysis access_med.no_resp_mach access_med.no_meds access_med.couldnt_afford access_med.ot_reasons                                       \n",
      "0                 0                       0                        0                          0                     0                      0                       0                  0                         NA                                                    4.0   \n",
      "                                                                                                                    99                     0                       0                  0                         NA                                                    1.0   \n",
      "                                                                                                                                           4                       0                  0                         NA                                                    3.0   \n",
      "                                                                                                                                           5                       0                  0                         NA                                                    5.0   \n",
      "                                                                                                                                                                   99                 99                        NA                                                    6.0   \n",
      "...                                                                                                                                                                                                                                                                   ...   \n",
      "99                99                      99                       99                         99                    99                     99                      99                 99                        NA                                                    4.0   \n",
      "                                                                                                                                                                                                                NA                                                    4.0   \n",
      "                                                                                                                                                                                                                Obtuvo bacteria en su pierna debido a las aguas...    5.0   \n",
      "                                                                                                                                                                                                                Problemas para mantener el medicamento                1.0   \n",
      "                                                                                                                                                                                                                went to Florida during the hurricane and return...    5.0   \n",
      "\n",
      "                                                                                                                                                                                                                                                                   flag  \\\n",
      "access_med.no_911 access_med.no_transport access_med.roads_damaged access_med.facility_closed access_med.no_doctors access_med.no_dialysis access_med.no_resp_mach access_med.no_meds access_med.couldnt_afford access_med.ot_reasons                                     \n",
      "0                 0                       0                        0                          0                     0                      0                       0                  0                         NA                                                  0.0   \n",
      "                                                                                                                    99                     0                       0                  0                         NA                                                  0.0   \n",
      "                                                                                                                                           4                       0                  0                         NA                                                  1.0   \n",
      "                                                                                                                                           5                       0                  0                         NA                                                  0.0   \n",
      "                                                                                                                                                                   99                 99                        NA                                                  0.0   \n",
      "...                                                                                                                                                                                                                                                                 ...   \n",
      "99                99                      99                       99                         99                    99                     99                      99                 99                        NA                                                  1.0   \n",
      "                                                                                                                                                                                                                NA                                                  1.0   \n",
      "                                                                                                                                                                                                                Obtuvo bacteria en su pierna debido a las aguas...  0.0   \n",
      "                                                                                                                                                                                                                Problemas para mantener el medicamento              0.0   \n",
      "                                                                                                                                                                                                                went to Florida during the hurricane and return...  0.0   \n",
      "\n",
      "                                                                                                                                                                                                                                                                   mun_id  \n",
      "access_med.no_911 access_med.no_transport access_med.roads_damaged access_med.facility_closed access_med.no_doctors access_med.no_dialysis access_med.no_resp_mach access_med.no_meds access_med.couldnt_afford access_med.ot_reasons                                      \n",
      "0                 0                       0                        0                          0                     0                      0                       0                  0                         NA                                                   16.0  \n",
      "                                                                                                                    99                     0                       0                  0                         NA                                                    9.0  \n",
      "                                                                                                                                           4                       0                  0                         NA                                                   26.0  \n",
      "                                                                                                                                           5                       0                  0                         NA                                                   19.0  \n",
      "                                                                                                                                                                   99                 99                        NA                                                   19.0  \n",
      "...                                                                                                                                                                                                                                                                   ...  \n",
      "99                99                      99                       99                         99                    99                     99                      99                 99                        NA                                                   21.0  \n",
      "                                                                                                                                                                                                                NA                                                   21.0  \n",
      "                                                                                                                                                                                                                Obtuvo bacteria en su pierna debido a las aguas...   15.0  \n",
      "                                                                                                                                                                                                                Problemas para mantener el medicamento                5.0  \n",
      "                                                                                                                                                                                                                went to Florida during the hurricane and return...   15.0  \n",
      "\n",
      "[3299 rows x 36 columns]\n"
     ]
    }
   ],
   "source": [
    "household_indexed_df1 = df1.set_index(['access_med.no_911', 'access_med.no_transport', 'access_med.roads_damaged', \n",
    "                 'access_med.facility_closed', 'access_med.no_doctors', 'access_med.no_dialysis',\n",
    "                 'access_med.no_resp_mach', 'access_med.no_meds', 'access_med.couldnt_afford',\n",
    "                 'access_med.ot_reasons'])\n",
    "household_indexed_df = household_indexed_df1.sort_index()\n",
    "print(household_indexed_df)"
   ]
  },
  {
   "cell_type": "code",
   "execution_count": 13,
   "metadata": {},
   "outputs": [
    {
     "name": "stdout",
     "output_type": "stream",
     "text": [
      "       variable value\n",
      "0         hh_id    92\n",
      "1         hh_id   646\n",
      "2         hh_id  1885\n",
      "3         hh_id   167\n",
      "4         hh_id   182\n",
      "...         ...   ...\n",
      "118759   mun_id    21\n",
      "118760   mun_id    21\n",
      "118761   mun_id    15\n",
      "118762   mun_id     5\n",
      "118763   mun_id    15\n",
      "\n",
      "[118764 rows x 2 columns]\n"
     ]
    }
   ],
   "source": [
    "household_df_melt = pd.melt(household_indexed_df)\n",
    "print(household_df_melt)"
   ]
  },
  {
   "cell_type": "code",
   "execution_count": 18,
   "metadata": {},
   "outputs": [
    {
     "name": "stdout",
     "output_type": "stream",
     "text": [
      "                       flag   hh_size     mun_id    strata\n",
      "access_med.no_911                                         \n",
      "0                  0.542373  2.796610  25.813559  4.542373\n",
      "1                  0.720000  3.120000  27.320000  4.480000\n",
      "2                  0.625000  3.250000  25.125000  3.875000\n",
      "3                  0.714286  3.500000  34.214286  5.214286\n",
      "4                  0.900000  3.100000  35.300000  5.000000\n",
      "5                  0.875000  3.625000  35.625000  6.625000\n",
      "6                  0.714286  3.428571  28.857143  3.857143\n",
      "99                 0.716225  2.878788  29.011679  4.624684\n",
      "All                0.713853  2.886329  28.989088  4.627160\n"
     ]
    }
   ],
   "source": [
    "household_table_1 = household_indexed_df.pivot_table(index = 'access_med.no_911', margins=True, aggfunc=np.mean) \n",
    "\n",
    "print(household_table_1)"
   ]
  },
  {
   "cell_type": "code",
   "execution_count": 49,
   "metadata": {},
   "outputs": [
    {
     "data": {
      "text/plain": [
       "access_med.no_911\n",
       "0      5.854139\n",
       "1      6.185690\n",
       "2      5.679224\n",
       "3      7.822998\n",
       "4      8.118331\n",
       "5      8.065084\n",
       "6      6.584485\n",
       "99     6.616405\n",
       "All    6.610299\n",
       "dtype: float64"
      ]
     },
     "execution_count": 49,
     "metadata": {},
     "output_type": "execute_result"
    }
   ],
   "source": [
    "household_table_1.sem(axis = 1) "
   ]
  },
  {
   "cell_type": "code",
   "execution_count": 19,
   "metadata": {},
   "outputs": [
    {
     "name": "stdout",
     "output_type": "stream",
     "text": [
      "                             flag   hh_size     mun_id    strata\n",
      "access_med.no_transport                                         \n",
      "0                        0.662162  2.770270  27.337838  4.581081\n",
      "1                        0.454545  3.454545  20.272727  3.181818\n",
      "2                        0.727273  2.818182  34.636364  4.727273\n",
      "3                        0.565217  2.434783  27.347826  4.434783\n",
      "4                        0.818182  3.090909  31.681818  5.636364\n",
      "5                        0.739130  3.565217  33.565217  6.260870\n",
      "6                        0.720000  2.720000  28.600000  5.200000\n",
      "99                       0.716077  2.885531  29.001608  4.610611\n",
      "All                      0.713853  2.886329  28.989088  4.627160\n"
     ]
    }
   ],
   "source": [
    "household_table_2 = household_indexed_df.pivot_table(index = 'access_med.no_transport', margins=True, aggfunc=np.mean) #'access_med.roads_damaged', \n",
    "\n",
    "print(household_table_2)"
   ]
  },
  {
   "cell_type": "code",
   "execution_count": 48,
   "metadata": {},
   "outputs": [
    {
     "data": {
      "text/plain": [
       "access_med.no_transport\n",
       "0      6.218434\n",
       "1      4.528206\n",
       "2      8.011442\n",
       "3      6.267383\n",
       "4      7.192631\n",
       "5      7.594985\n",
       "6      6.494949\n",
       "99     6.614207\n",
       "All    6.610299\n",
       "dtype: float64"
      ]
     },
     "execution_count": 48,
     "metadata": {},
     "output_type": "execute_result"
    }
   ],
   "source": [
    "household_table_2.sem(axis = 1) "
   ]
  },
  {
   "cell_type": "code",
   "execution_count": 20,
   "metadata": {},
   "outputs": [
    {
     "name": "stdout",
     "output_type": "stream",
     "text": [
      "                              flag   hh_size     mun_id    strata\n",
      "access_med.roads_damaged                                         \n",
      "0                         0.694444  2.736111  28.263889  4.750000\n",
      "1                         0.611111  3.555556  24.333333  4.166667\n",
      "2                         0.714286  3.107143  29.642857  4.785714\n",
      "3                         0.680851  3.042553  28.117021  4.914894\n",
      "4                         0.803030  3.196970  34.984848  5.772727\n",
      "5                         0.880952  2.988095  35.607143  6.250000\n",
      "6                         0.555556  2.666667  18.555556  4.444444\n",
      "99                        0.709699  2.869536  28.764344  4.544399\n",
      "All                       0.713853  2.886329  28.989088  4.627160\n"
     ]
    }
   ],
   "source": [
    "household_table_3 = household_indexed_df.pivot_table(index = 'access_med.roads_damaged', margins=True, aggfunc=np.mean) # \n",
    "\n",
    "print(household_table_3)"
   ]
  },
  {
   "cell_type": "code",
   "execution_count": 47,
   "metadata": {},
   "outputs": [
    {
     "data": {
      "text/plain": [
       "access_med.roads_damaged\n",
       "0      6.437709\n",
       "1      5.444492\n",
       "2      6.745375\n",
       "3      6.368578\n",
       "4      7.996454\n",
       "5      8.133853\n",
       "6      4.078197\n",
       "99     6.561226\n",
       "All    6.610299\n",
       "dtype: float64"
      ]
     },
     "execution_count": 47,
     "metadata": {},
     "output_type": "execute_result"
    }
   ],
   "source": [
    "household_table_3.sem(axis = 1) "
   ]
  },
  {
   "cell_type": "code",
   "execution_count": 21,
   "metadata": {},
   "outputs": [
    {
     "name": "stdout",
     "output_type": "stream",
     "text": [
      "                                flag   hh_size     mun_id    strata\n",
      "access_med.facility_closed                                         \n",
      "0                           0.680851  2.670213  28.606383  4.797872\n",
      "1                           0.857143  2.775510  31.612245  4.612245\n",
      "2                           0.733333  2.866667  29.266667  5.200000\n",
      "3                           0.800000  3.000000  32.250000  5.175000\n",
      "4                           0.714286  3.214286  27.767857  4.714286\n",
      "5                           0.790909  3.081818  29.390909  5.054545\n",
      "6                           0.653846  3.192308  18.961538  3.500000\n",
      "99                          0.708708  2.877332  29.007602  4.600553\n",
      "All                         0.713853  2.886329  28.989088  4.627160\n"
     ]
    }
   ],
   "source": [
    "household_table_4 = household_indexed_df.pivot_table(index='access_med.facility_closed', margins=True, aggfunc=np.mean)\n",
    "\n",
    "print(household_table_4)\n"
   ]
  },
  {
   "cell_type": "code",
   "execution_count": 46,
   "metadata": {},
   "outputs": [
    {
     "data": {
      "text/plain": [
       "access_med.facility_closed\n",
       "0      6.526867\n",
       "1      7.256589\n",
       "2      6.646212\n",
       "3      7.368898\n",
       "4      6.276180\n",
       "5      6.660996\n",
       "6      4.177166\n",
       "99     6.617750\n",
       "All    6.610299\n",
       "dtype: float64"
      ]
     },
     "execution_count": 46,
     "metadata": {},
     "output_type": "execute_result"
    }
   ],
   "source": [
    "household_table_4.sem(axis = 1) "
   ]
  },
  {
   "cell_type": "code",
   "execution_count": 22,
   "metadata": {},
   "outputs": [
    {
     "name": "stdout",
     "output_type": "stream",
     "text": [
      "                           flag   hh_size     mun_id    strata\n",
      "access_med.no_doctors                                         \n",
      "0                      0.687500  3.012500  29.150000  4.925000\n",
      "1                      0.600000  2.733333  22.066667  2.866667\n",
      "2                      0.666667  2.666667  25.750000  4.166667\n",
      "3                      0.677419  3.064516  29.225806  4.483871\n",
      "4                      0.730769  2.961538  29.500000  4.788462\n",
      "5                      0.750000  3.141304  29.021739  5.032609\n",
      "6                      0.615385  3.192308  21.153846  3.769231\n",
      "99                     0.715145  2.870946  29.088265  4.623537\n",
      "All                    0.713853  2.886329  28.989088  4.627160\n"
     ]
    }
   ],
   "source": [
    "household_table_5 = household_indexed_df.pivot_table(index = 'access_med.no_doctors', margins=True, aggfunc=np.mean) \n",
    "\n",
    "print(household_table_5)"
   ]
  },
  {
   "cell_type": "code",
   "execution_count": 45,
   "metadata": {},
   "outputs": [
    {
     "data": {
      "text/plain": [
       "access_med.no_doctors\n",
       "0      6.625634\n",
       "1      5.026891\n",
       "2      5.856539\n",
       "3      6.667378\n",
       "4      6.719681\n",
       "5      6.570456\n",
       "6      4.707242\n",
       "99     6.636231\n",
       "All    6.610299\n",
       "dtype: float64"
      ]
     },
     "execution_count": 45,
     "metadata": {},
     "output_type": "execute_result"
    }
   ],
   "source": [
    "household_table_5.sem(axis = 1) "
   ]
  },
  {
   "cell_type": "code",
   "execution_count": 23,
   "metadata": {},
   "outputs": [
    {
     "name": "stdout",
     "output_type": "stream",
     "text": [
      "                            flag   hh_size     mun_id    strata\n",
      "access_med.no_dialysis                                         \n",
      "0                       0.722222  3.000000  29.666667  5.333333\n",
      "1                       1.000000  3.000000  28.666667  4.333333\n",
      "2                       0.666667  2.000000  18.333333  3.000000\n",
      "3                       0.636364  3.454545  24.727273  5.454545\n",
      "4                       0.750000  2.500000  24.250000  6.250000\n",
      "5                       0.750000  4.500000  20.500000  4.500000\n",
      "6                       0.600000  2.800000  20.800000  3.400000\n",
      "99                      0.713934  2.883113  29.038757  4.622270\n",
      "All                     0.713853  2.886329  28.989088  4.627160\n"
     ]
    }
   ],
   "source": [
    "household_table_6 = household_indexed_df.pivot_table(index = 'access_med.no_dialysis', margins=True, aggfunc=np.mean) \n",
    "\n",
    "print(household_table_6)"
   ]
  },
  {
   "cell_type": "code",
   "execution_count": 44,
   "metadata": {},
   "outputs": [
    {
     "data": {
      "text/plain": [
       "access_med.no_dialysis\n",
       "0      6.728203\n",
       "1      6.508364\n",
       "2      4.138796\n",
       "3      5.476267\n",
       "4      5.394224\n",
       "5      4.402148\n",
       "6      4.672259\n",
       "99     6.623165\n",
       "All    6.610299\n",
       "dtype: float64"
      ]
     },
     "execution_count": 44,
     "metadata": {},
     "output_type": "execute_result"
    }
   ],
   "source": [
    "household_table_6.sem(axis = 1) "
   ]
  },
  {
   "cell_type": "code",
   "execution_count": 24,
   "metadata": {},
   "outputs": [
    {
     "name": "stdout",
     "output_type": "stream",
     "text": [
      "                             flag   hh_size     mun_id    strata\n",
      "access_med.no_resp_mach                                         \n",
      "0                        0.554348  3.065217  23.978261  4.282609\n",
      "1                        0.571429  3.285714  24.142857  3.571429\n",
      "2                        0.727273  2.954545  28.636364  4.363636\n",
      "3                        0.742424  3.484848  31.893939  4.484848\n",
      "4                        0.681159  3.043478  28.405797  4.623188\n",
      "5                        0.655405  3.506757  28.986486  4.695946\n",
      "6                        0.674419  3.465116  26.558140  4.604651\n",
      "99                       0.723001  2.820477  29.149018  4.643058\n",
      "All                      0.713853  2.886329  28.989088  4.627160\n"
     ]
    }
   ],
   "source": [
    "household_table_7 = household_indexed_df.pivot_table(index = 'access_med.no_resp_mach', margins=True, aggfunc=np.mean) \n",
    "\n",
    "print(household_table_7)"
   ]
  },
  {
   "cell_type": "code",
   "execution_count": 43,
   "metadata": {},
   "outputs": [
    {
     "data": {
      "text/plain": [
       "access_med.no_resp_mach\n",
       "0      5.392202\n",
       "1      5.458681\n",
       "2      6.531666\n",
       "3      7.290516\n",
       "4      6.456797\n",
       "5      6.563421\n",
       "6      5.968221\n",
       "99     6.653415\n",
       "All    6.610299\n",
       "dtype: float64"
      ]
     },
     "execution_count": 43,
     "metadata": {},
     "output_type": "execute_result"
    }
   ],
   "source": [
    "household_table_7.sem(axis = 1) "
   ]
  },
  {
   "cell_type": "code",
   "execution_count": 25,
   "metadata": {},
   "outputs": [
    {
     "name": "stdout",
     "output_type": "stream",
     "text": [
      "                        flag   hh_size     mun_id    strata\n",
      "access_med.no_meds                                         \n",
      "0                   0.781818  2.586364  30.877273  4.895455\n",
      "1                   0.714286  3.357143  27.285714  4.071429\n",
      "2                   0.764706  3.029412  25.235294  4.617647\n",
      "3                   0.720339  3.118644  29.915254  4.694915\n",
      "4                   0.680982  2.846626  29.711656  4.889571\n",
      "5                   0.767123  3.205479  30.869863  5.102740\n",
      "6                   0.818182  2.863636  36.136364  5.545455\n",
      "99                  0.705267  2.881487  28.631681  4.553060\n",
      "All                 0.713853  2.886329  28.989088  4.627160\n"
     ]
    }
   ],
   "source": [
    "household_table_8 = household_indexed_df.pivot_table(index = 'access_med.no_meds', margins=True, aggfunc=np.mean) \n",
    "\n",
    "print(household_table_8)"
   ]
  },
  {
   "cell_type": "code",
   "execution_count": 42,
   "metadata": {},
   "outputs": [
    {
     "data": {
      "text/plain": [
       "access_med.no_meds\n",
       "0      7.080897\n",
       "1      6.185140\n",
       "2      5.663286\n",
       "3      6.816800\n",
       "4      6.781135\n",
       "5      7.017509\n",
       "6      8.321627\n",
       "99     6.527303\n",
       "All    6.610299\n",
       "dtype: float64"
      ]
     },
     "execution_count": 42,
     "metadata": {},
     "output_type": "execute_result"
    }
   ],
   "source": [
    "household_table_8.sem(axis = 1) "
   ]
  },
  {
   "cell_type": "code",
   "execution_count": 26,
   "metadata": {},
   "outputs": [
    {
     "name": "stdout",
     "output_type": "stream",
     "text": [
      "                               flag   hh_size     mun_id    strata\n",
      "access_med.couldnt_afford                                         \n",
      "0                          0.773585  2.641509  29.735849  4.358491\n",
      "1                          1.000000  2.000000  28.000000  5.000000\n",
      "2                          0.888889  2.666667  31.333333  4.888889\n",
      "3                          0.555556  4.000000  25.611111  4.055556\n",
      "4                          0.630435  3.108696  25.891304  4.304348\n",
      "5                          0.640000  3.400000  26.060000  4.780000\n",
      "6                          0.684211  3.315789  30.236842  4.657895\n",
      "99                         0.715769  2.868592  29.068462  4.635951\n",
      "All                        0.713853  2.886329  28.989088  4.627160\n"
     ]
    }
   ],
   "source": [
    "household_table_9 = household_indexed_df.pivot_table(index = 'access_med.couldnt_afford', margins=True, aggfunc=np.mean) \n",
    "\n",
    "print(household_table_9)"
   ]
  },
  {
   "cell_type": "code",
   "execution_count": 41,
   "metadata": {},
   "outputs": [
    {
     "data": {
      "text/plain": [
       "access_med.couldnt_afford\n",
       "0      6.825527\n",
       "1      6.390097\n",
       "2      7.176422\n",
       "3      5.743801\n",
       "4      5.852749\n",
       "5      5.843715\n",
       "6      6.887338\n",
       "99     6.630708\n",
       "All    6.610299\n",
       "dtype: float64"
      ]
     },
     "execution_count": 41,
     "metadata": {},
     "output_type": "execute_result"
    }
   ],
   "source": [
    "household_table_9.sem(axis = 1) "
   ]
  },
  {
   "cell_type": "code",
   "execution_count": 27,
   "metadata": {},
   "outputs": [
    {
     "name": "stdout",
     "output_type": "stream",
     "text": [
      "                                                        flag   hh_size  \\\n",
      "access_med.ot_reasons                                                    \n",
      "(NA                                                 1.000000  3.000000   \n",
      "*NA                                                 1.000000  7.000000   \n",
      "Atención  en el hogar por médicos voluntarios       0.000000  3.000000   \n",
      "Cama de posiciones ortopédica no se utilizo por...  0.000000  3.000000   \n",
      "Dificultad para obtener alimentos de bebé           0.000000  6.000000   \n",
      "Esposa diabética recurrió  a vecinos con genera...  1.000000  2.000000   \n",
      "Faltaba electricidad para enfriar insulina          1.000000  2.000000   \n",
      "Farmacias cerradas                                  0.000000  4.000000   \n",
      "Integrante se trasladó a New York a recibir ser...  0.000000  3.000000   \n",
      "NA                                                  0.716290  2.884076   \n",
      "Obtuvo bacteria en su pierna debido a las aguas...  0.000000  1.000000   \n",
      "Persona asmática                                    0.000000  2.000000   \n",
      "Problemas gastrointestinales                        0.000000  4.000000   \n",
      "Problemas para mantener el medicamento              0.000000  4.000000   \n",
      "Problemas para recoger medicamentos y conseguir...  0.000000  4.000000   \n",
      "Requerían servicios médicos en Virginia, E.U.       1.000000  5.000000   \n",
      "cama de posiciones  (falta de electricidad )        0.000000  3.000000   \n",
      "la persona se le hacía difícil llegar               1.000000  4.000000   \n",
      "no podía sacar el dinero del banco                  1.000000  2.000000   \n",
      "problemas de crisis de salud mental                 0.000000  2.000000   \n",
      "se fue a Texas a recibir servicios paciente de ...  0.000000  2.000000   \n",
      "went to Florida during the hurricane and return...  0.000000  2.000000   \n",
      "All                                                 0.713853  2.886329   \n",
      "\n",
      "                                                       mun_id    strata  \n",
      "access_med.ot_reasons                                                    \n",
      "(NA                                                 51.000000  6.000000  \n",
      "*NA                                                 21.000000  4.000000  \n",
      "Atención  en el hogar por médicos voluntarios        4.000000  2.000000  \n",
      "Cama de posiciones ortopédica no se utilizo por...  10.000000  2.000000  \n",
      "Dificultad para obtener alimentos de bebé           10.000000  2.000000  \n",
      "Esposa diabética recurrió  a vecinos con genera...  41.000000  6.000000  \n",
      "Faltaba electricidad para enfriar insulina          39.000000  3.000000  \n",
      "Farmacias cerradas                                   5.000000  1.000000  \n",
      "Integrante se trasladó a New York a recibir ser...   5.000000  1.000000  \n",
      "NA                                                  29.064063  4.636364  \n",
      "Obtuvo bacteria en su pierna debido a las aguas...  15.000000  5.000000  \n",
      "Persona asmática                                    14.000000  2.000000  \n",
      "Problemas gastrointestinales                        10.000000  2.000000  \n",
      "Problemas para mantener el medicamento               5.000000  1.000000  \n",
      "Problemas para recoger medicamentos y conseguir...   4.000000  2.000000  \n",
      "Requerían servicios médicos en Virginia, E.U.        7.000000  5.000000  \n",
      "cama de posiciones  (falta de electricidad )        14.000000  2.000000  \n",
      "la persona se le hacía difícil llegar               49.000000  5.000000  \n",
      "no podía sacar el dinero del banco                  38.000000  4.000000  \n",
      "problemas de crisis de salud mental                  4.000000  2.000000  \n",
      "se fue a Texas a recibir servicios paciente de ...   2.000000  5.000000  \n",
      "went to Florida during the hurricane and return...  15.000000  5.000000  \n",
      "All                                                 28.989088  4.627160  \n"
     ]
    }
   ],
   "source": [
    "household_table_10 = household_indexed_df.pivot_table(index = 'access_med.ot_reasons', margins=True, aggfunc=np.mean) \n",
    "\n",
    "print(household_table_10)"
   ]
  },
  {
   "cell_type": "code",
   "execution_count": 40,
   "metadata": {},
   "outputs": [
    {
     "data": {
      "text/plain": [
       "access_med.ot_reasons\n",
       "(NA                                                                            11.960874\n",
       "*NA                                                                             4.422952\n",
       "Atención  en el hogar por médicos voluntarios                                   0.853913\n",
       "Cama de posiciones ortopédica no se utilizo por falta de electricidad           2.174665\n",
       "Dificultad para obtener alimentos de bebé                                       2.217356\n",
       "Esposa diabética recurrió  a vecinos con generadores para guardar insulina.     9.561206\n",
       "Faltaba electricidad para enfriar insulina                                      9.259005\n",
       "Farmacias cerradas                                                              1.190238\n",
       "Integrante se trasladó a New York a recibir servicios médicos.                  1.108678\n",
       "NA                                                                              6.628281\n",
       "Obtuvo bacteria en su pierna debido a las aguas que entraron en su casa.        3.424787\n",
       "Persona asmática                                                                3.201562\n",
       "Problemas gastrointestinales                                                    2.160247\n",
       "Problemas para mantener el medicamento                                          1.190238\n",
       "Problemas para recoger medicamentos y conseguir receta                          0.957427\n",
       "Requerían servicios médicos en Virginia, E.U.                                   1.258306\n",
       "cama de posiciones  (falta de electricidad )                                    3.145764\n",
       "la persona se le hacía difícil llegar                                          11.448253\n",
       "no podía sacar el dinero del banco                                              8.938447\n",
       "problemas de crisis de salud mental                                             0.816497\n",
       "se fue a Texas a recibir servicios paciente de cancer 2 meses                   1.030776\n",
       "went to Florida during the hurricane and returned January 1 2018                3.329164\n",
       "All                                                                             6.610299\n",
       "dtype: float64"
      ]
     },
     "execution_count": 40,
     "metadata": {},
     "output_type": "execute_result"
    }
   ],
   "source": [
    "household_table_10.sem(axis = 1) "
   ]
  },
  {
   "cell_type": "code",
   "execution_count": 28,
   "metadata": {},
   "outputs": [
    {
     "name": "stdout",
     "output_type": "stream",
     "text": [
      "            flag   hh_size     mun_id\n",
      "strata                               \n",
      "1.0     0.204082  2.798834  13.644315\n",
      "2.0     0.424691  3.051852  17.106173\n",
      "3.0     0.745192  2.790865  26.862981\n",
      "4.0     0.792363  2.684964  26.902148\n",
      "5.0     0.607317  3.153659  25.765854\n",
      "6.0     0.879386  3.010965  36.317982\n",
      "7.0     0.927136  2.708543  37.899497\n",
      "8.0     1.000000  2.867257  42.856195\n",
      "All     0.713853  2.886329  28.989088\n"
     ]
    }
   ],
   "source": [
    "household_table_11 = household_indexed_df.pivot_table(index = 'strata', margins=True, aggfunc=np.mean) \n",
    "\n",
    "print(household_table_11)"
   ]
  },
  {
   "cell_type": "code",
   "execution_count": 39,
   "metadata": {},
   "outputs": [
    {
     "data": {
      "text/plain": [
       "strata\n",
       "1.0     4.116343\n",
       "2.0     5.178469\n",
       "3.0     8.385803\n",
       "4.0     8.405603\n",
       "5.0     7.995649\n",
       "6.0    11.474114\n",
       "7.0    12.038208\n",
       "8.0    13.651501\n",
       "All     9.084671\n",
       "dtype: float64"
      ]
     },
     "execution_count": 39,
     "metadata": {},
     "output_type": "execute_result"
    }
   ],
   "source": [
    "household_table_11.sem(axis = 1) "
   ]
  },
  {
   "cell_type": "code",
   "execution_count": 35,
   "metadata": {},
   "outputs": [
    {
     "name": "stdout",
     "output_type": "stream",
     "text": [
      "                            strata              resource       resource_cat\n",
      "values    sd        length                                                 \n",
      "24.411079 30.528533 343.0      1.0        water_tot_mean              Water\n",
      "26.864198 29.720127 405.0      2.0        water_tot_mean              Water\n",
      "33.353365 33.259442 416.0      3.0        water_tot_mean              Water\n",
      "37.747017 32.808754 419.0      4.0        water_tot_mean              Water\n",
      "38.324390 34.263179 410.0      5.0        water_tot_mean              Water\n",
      "39.697368 36.066247 456.0      6.0        water_tot_mean              Water\n",
      "45.464824 37.322241 398.0      7.0        water_tot_mean              Water\n",
      "48.252212 36.342277 452.0      8.0        water_tot_mean              Water\n",
      "54.075802 38.180781 343.0      1.0         cell_tot_mean  Cellular Coverage\n",
      "56.740385 36.400581 416.0      3.0         cell_tot_mean  Cellular Coverage\n",
      "58.624691 33.841760 405.0      2.0         cell_tot_mean  Cellular Coverage\n",
      "61.851312 34.974904 343.0      1.0  electricity_tot_mean        Electricity\n",
      "62.121718 35.792624 419.0      4.0         cell_tot_mean  Cellular Coverage\n",
      "63.010965 33.375221 456.0      6.0         cell_tot_mean  Cellular Coverage\n",
      "67.443902 33.377196 410.0      5.0         cell_tot_mean  Cellular Coverage\n",
      "69.690265 33.067647 452.0      8.0         cell_tot_mean  Cellular Coverage\n",
      "71.737981 34.289639 416.0      3.0  electricity_tot_mean        Electricity\n",
      "75.040201 32.794043 398.0      7.0         cell_tot_mean  Cellular Coverage\n",
      "77.916468 30.995835 419.0      4.0  electricity_tot_mean        Electricity\n",
      "78.962719 27.821107 456.0      6.0  electricity_tot_mean        Electricity\n",
      "80.451852 31.910546 405.0      2.0  electricity_tot_mean        Electricity\n",
      "86.317073 26.289938 410.0      5.0  electricity_tot_mean        Electricity\n",
      "87.070352 24.632719 398.0      7.0  electricity_tot_mean        Electricity\n",
      "91.042035 26.043721 452.0      8.0  electricity_tot_mean        Electricity\n"
     ]
    }
   ],
   "source": [
    "utilities_indexed = df5.set_index(['values', 'sd', 'length'])\n",
    "utilities_df = utilities_indexed.sort_index()\n",
    "print(utilities_df)"
   ]
  },
  {
   "cell_type": "code",
   "execution_count": 38,
   "metadata": {},
   "outputs": [
    {
     "data": {
      "text/plain": [
       "values     sd         length\n",
       "24.411079  30.528533  343.0    NaN\n",
       "26.864198  29.720127  405.0    NaN\n",
       "33.353365  33.259442  416.0    NaN\n",
       "37.747017  32.808754  419.0    NaN\n",
       "38.324390  34.263179  410.0    NaN\n",
       "39.697368  36.066247  456.0    NaN\n",
       "45.464824  37.322241  398.0    NaN\n",
       "48.252212  36.342277  452.0    NaN\n",
       "54.075802  38.180781  343.0    NaN\n",
       "56.740385  36.400581  416.0    NaN\n",
       "58.624691  33.841760  405.0    NaN\n",
       "61.851312  34.974904  343.0    NaN\n",
       "62.121718  35.792624  419.0    NaN\n",
       "63.010965  33.375221  456.0    NaN\n",
       "67.443902  33.377196  410.0    NaN\n",
       "69.690265  33.067647  452.0    NaN\n",
       "71.737981  34.289639  416.0    NaN\n",
       "75.040201  32.794043  398.0    NaN\n",
       "77.916468  30.995835  419.0    NaN\n",
       "78.962719  27.821107  456.0    NaN\n",
       "80.451852  31.910546  405.0    NaN\n",
       "86.317073  26.289938  410.0    NaN\n",
       "87.070352  24.632719  398.0    NaN\n",
       "91.042035  26.043721  452.0    NaN\n",
       "dtype: float64"
      ]
     },
     "execution_count": 38,
     "metadata": {},
     "output_type": "execute_result"
    }
   ],
   "source": [
    "utilities_df.sem(axis = 1) "
   ]
  },
  {
   "cell_type": "code",
   "execution_count": null,
   "metadata": {},
   "outputs": [],
   "source": []
  }
 ],
 "metadata": {
  "celltoolbar": "Raw Cell Format",
  "kernelspec": {
   "display_name": "Python 3",
   "language": "python",
   "name": "python3"
  },
  "language_info": {
   "codemirror_mode": {
    "name": "ipython",
    "version": 3
   },
   "file_extension": ".py",
   "mimetype": "text/x-python",
   "name": "python",
   "nbconvert_exporter": "python",
   "pygments_lexer": "ipython3",
   "version": "3.7.4"
  }
 },
 "nbformat": 4,
 "nbformat_minor": 2
}
